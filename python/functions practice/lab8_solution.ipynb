{
 "cells": [
  {
   "cell_type": "code",
   "execution_count": 34,
   "metadata": {},
   "outputs": [],
   "source": [
    "import math"
   ]
  },
  {
   "cell_type": "code",
   "execution_count": null,
   "metadata": {},
   "outputs": [],
   "source": [
    "'''\n",
    "TASK1 QUESTIONS\n",
    "\n",
    "QUESTION 1: 120\n",
    "QUESTION 2: 50\n",
    "QUESTION 3: 110\n",
    "QUESTION 4: tmp2\n",
    "QUESTION 5: test#1: 4\n",
    "            test#2: -1 \n",
    "QUESTION 6: nothing is printed\n",
    "QUESTION 7: print statement after function return\n",
    "\n",
    "'''"
   ]
  },
  {
   "cell_type": "code",
   "execution_count": 58,
   "metadata": {},
   "outputs": [
    {
     "name": "stdout",
     "output_type": "stream",
     "text": [
      "120\n",
      "50\n"
     ]
    }
   ],
   "source": [
    "'''\n",
    "Task 1\n",
    "'''\n",
    "def mystery(a, b, c):\n",
    "    num = a + b + c\n",
    "    if a < b :\n",
    "        num = num * 2\n",
    "    elif b < c : \n",
    "        num = num * 5\n",
    "    else:\n",
    "        num = num * 10\n",
    "    \n",
    "    return num\n",
    "        \n",
    "def mystery2(a, b, c):\n",
    "    \n",
    "    if a < b and b < c:\n",
    "        return a\n",
    "    elif b < a and b < c:\n",
    "        return b\n",
    "    elif c < a and c < b:\n",
    "        return c\n",
    "    else:\n",
    "        return -1\n",
    "       \n",
    "def mystery3(a, b):\n",
    "\n",
    "    if a == b:\n",
    "        result = \"equal\"\n",
    "    elif a < b:\n",
    "        result = \"less than\"\n",
    "    else:\n",
    "        result = \"greater than\"\n",
    "    \n",
    "    return result\n",
    "    print('a{} {} b{}'.format(a, result, b))\n",
    "    \n",
    "# Calls to test functions\n",
    "\n",
    "val1 = mystery(6,4,2)\n",
    "print(val1)\n",
    "\n",
    "val2 = mystery(3, 2, 5)\n",
    "print(val2)\n",
    " \n",
    "print(\"test#1:\",  mystery2( 6, 4, 8) )\n",
    "\n",
    "print(\"test#2:\",  mystery2( 5, 7, 5) )\n",
    "\n",
    "compare_string = mystery3(5,7)\n"
   ]
  },
  {
   "cell_type": "code",
   "execution_count": 51,
   "metadata": {},
   "outputs": [
    {
     "name": "stdout",
     "output_type": "stream",
     "text": [
      "7 feet 0 inches = 7.0 feet\n",
      "5 feet 6 inches = 5.5 feet\n",
      "12 feet 9 inches = 12.75 feet\n"
     ]
    }
   ],
   "source": [
    "'''\n",
    "Task2\n",
    "'''\n",
    "\n",
    "#Add your function here\n",
    "def convert_to_feet( feet,  inches):\n",
    "    return feet + inches/12\n",
    "\n",
    "#Main algorithm     \n",
    "result1 = convert_to_feet(7, 0)\n",
    "print('{} feet {} inches = {} feet'.format(7,0,result1))\n",
    "result1 = convert_to_feet(5, 6);\n",
    "print('{} feet {} inches = {} feet'.format(5,6,result1))\n",
    "result1 = convert_to_feet(12, 9)\n",
    "print('{} feet {} inches = {} feet'.format(12,9,result1))\n"
   ]
  },
  {
   "cell_type": "code",
   "execution_count": 52,
   "metadata": {},
   "outputs": [
    {
     "name": "stdout",
     "output_type": "stream",
     "text": [
      "24.0 length 10.0 width = 240.0 ceiling space\n",
      "7.5 length 11.5 width = 86.25 ceiling space\n"
     ]
    }
   ],
   "source": [
    "'''\n",
    "Task3\n",
    "'''\n",
    "\n",
    "#Add your function here\n",
    "def calc_ceiling_space( length, width):\n",
    "    return length * width\n",
    "\n",
    "\n",
    "#Main algorithm     \n",
    "result2 = calc_ceiling_space(24.0, 10.0)\n",
    "print('{} length {} width = {} ceiling space'.format(24.0, 10.0,result2))\n",
    "result2 = calc_ceiling_space(7.5, 11.5)\n",
    "print('{} length {} width = {} ceiling space'.format(7.5, 11.5,result2))\n",
    "   "
   ]
  },
  {
   "cell_type": "code",
   "execution_count": 54,
   "metadata": {},
   "outputs": [
    {
     "name": "stdout",
     "output_type": "stream",
     "text": [
      "15.0 length 12.0 width 10.0 height  =  540.0 wall space\n",
      "11.75 length 10.5 width 8.0 height =  356.0 wall space\n"
     ]
    }
   ],
   "source": [
    "'''\n",
    "Task4\n",
    "'''\n",
    "\n",
    "#Write your function here\n",
    "\n",
    "def calc_wall_space ( length,  width,  height):\n",
    "    return (2 * length * height) + (2 * width * height)\n",
    "\n",
    "\n",
    "#Main algorithm\n",
    "\n",
    "result3 = calc_wall_space(15.0, 12.0, 10.0) #length, width, height\n",
    "print('{} length {} width {} height  =  {} wall space'.format(15.0, 12.0, 10.0, result3))\n",
    "result3 = calc_wall_space(11.75, 10.5, 8.0) #length, width, height\n",
    "print('{} length {} width {} height =  {} wall space'.format(11.75, 10.5, 8.0, result3))\n",
    "\n"
   ]
  },
  {
   "cell_type": "code",
   "execution_count": 55,
   "metadata": {},
   "outputs": [
    {
     "name": "stdout",
     "output_type": "stream",
     "text": [
      "15.0 length 12.0 width 10.0 height  =  720.0 room space\n",
      "8.5 length 9.6 width 10.7 height  =  468.93999999999994 room space\n"
     ]
    }
   ],
   "source": [
    "'''\n",
    "Task5\n",
    "'''\n",
    "\n",
    "#Write your function here\n",
    "\n",
    "def calc_room_space( length,  width,  height):\n",
    "    return calc_ceiling_space(length, width) + calc_wall_space(length, width, height)\n",
    "\n",
    "#Main algorithm\n",
    "result4 = calc_room_space(15.0, 12.0, 10.0)\n",
    "print('{} length {} width {} height  =  {} room space'.format(15.0, 12.0, 10.0, result4))\n",
    "result4 = calc_room_space(8.5, 9.6, 10.7)\n",
    "print('{} length {} width {} height  =  {} room space'.format(8.5, 9.6, 10.7, result4))\n",
    "\n"
   ]
  },
  {
   "cell_type": "code",
   "execution_count": 56,
   "metadata": {},
   "outputs": [
    {
     "name": "stdout",
     "output_type": "stream",
     "text": [
      "58 length 30 width 10 height  =  10 paint\n",
      "16.75 length 19.5 width 10.0 height  =  4 paint\n"
     ]
    }
   ],
   "source": [
    "'''\n",
    "Task6\n",
    "'''\n",
    "\n",
    "#Write your function here\n",
    "\n",
    "def paint_amount( length,  width,  height):\n",
    "\n",
    "    sq_footage = calc_room_space(length, width, height)\n",
    "    #print(sq_footage)\n",
    "    num_gallons = sq_footage / 350\n",
    "    #print(num_gallons)\n",
    "    result = math.ceil(num_gallons)\n",
    "    return result\n",
    "\n",
    "\n",
    "#Main algorithm\n",
    "\n",
    "gallons = paint_amount(58, 30, 10)\n",
    "print('{} length {} width {} height  =  {} paint'.format(58, 30, 10, gallons))\n",
    "gallons = paint_amount(16.75, 19.5, 10.0)\n",
    "print('{} length {} width {} height  =  {} paint'.format(16.75, 19.5, 10.0, gallons))\n"
   ]
  },
  {
   "cell_type": "code",
   "execution_count": 57,
   "metadata": {},
   "outputs": [
    {
     "name": "stdout",
     "output_type": "stream",
     "text": [
      "12 ft 6 inch length 10 ft 9 inch width 8 ft 6 inch height  =  29.98 cost\n",
      "15 ft 7 inch length 12 ft 5 inch width 10 ft 2 inch height  =  44.97 cost\n"
     ]
    }
   ],
   "source": [
    "'''\n",
    "Task 7\n",
    "'''\n",
    "\n",
    "#write your function here\n",
    "def renovation_cost(length_ft, length_inches, width_ft, width_inches, height_ft, height_inches):\n",
    "    length = convert_to_feet(length_ft, length_inches)\n",
    "    #print(length)\n",
    "    width = convert_to_feet(width_ft, width_inches)\n",
    "    #print(width)\n",
    "    height = convert_to_feet(height_ft, height_inches)\n",
    "    #print(height)\n",
    "    cost = paint_amount(length, width, height) * 14.99\n",
    "    return cost\n",
    "\n",
    "#Main algorithm\n",
    "\n",
    "cost = renovation_cost(12,6, 10,9, 8,6)\n",
    "print('{} ft {} inch length {} ft {} inch width {} ft {} inch height  =  {} cost'.format(12,6, 10,9, 8,6, cost))\n",
    "\n",
    "cost = renovation_cost(15,7, 12,5, 10,2)\n",
    "print('{} ft {} inch length {} ft {} inch width {} ft {} inch height  =  {} cost'.format(15,7, 12,5, 10,2, cost))\n",
    "\n"
   ]
  },
  {
   "cell_type": "code",
   "execution_count": null,
   "metadata": {},
   "outputs": [],
   "source": []
  }
 ],
 "metadata": {
  "kernelspec": {
   "display_name": "Python 3",
   "language": "python",
   "name": "python3"
  },
  "language_info": {
   "codemirror_mode": {
    "name": "ipython",
    "version": 3
   },
   "file_extension": ".py",
   "mimetype": "text/x-python",
   "name": "python",
   "nbconvert_exporter": "python",
   "pygments_lexer": "ipython3",
   "version": "3.6.9"
  }
 },
 "nbformat": 4,
 "nbformat_minor": 2
}
