{
 "cells": [
  {
   "cell_type": "code",
   "execution_count": null,
   "metadata": {},
   "outputs": [],
   "source": [
    "import math"
   ]
  },
  {
   "cell_type": "code",
   "execution_count": null,
   "metadata": {},
   "outputs": [],
   "source": [
    "'''\n",
    "TASK1 QUESTIONS\n",
    "\n",
    "Write your answers in this cell.\n",
    "\n",
    "QUESTION 1:  \n",
    "\n",
    "QUESTION 2: \n",
    "\n",
    "QUESTION 3:  \n",
    "\n",
    "QUESTION 4:  \n",
    "\n",
    "QUESTION 5:  \n",
    "             \n",
    "QUESTION 6: \n",
    "\n",
    "QUESTION 7:  \n",
    "\n",
    "'''"
   ]
  },
  {
   "cell_type": "code",
   "execution_count": null,
   "metadata": {},
   "outputs": [],
   "source": [
    "'''\n",
    "Task2\n",
    "'''\n",
    "\n",
    "#Write your function here\n",
    " \n",
    "\n",
    "#Main algorithm     \n",
    "\n",
    "result1 = convert_to_feet(7, 0)\n",
    "print('{} feet {} inches = {} feet'.format(7,0,result1))\n",
    "\n",
    "result1 = convert_to_feet(5, 6);\n",
    "print('{} feet {} inches = {} feet'.format(5,6,result1))\n",
    "\n",
    "result1 = convert_to_feet(12, 9)\n",
    "print('{} feet {} inches = {} feet'.format(12,9,result1))\n"
   ]
  },
  {
   "cell_type": "code",
   "execution_count": null,
   "metadata": {},
   "outputs": [],
   "source": [
    "'''\n",
    "Task3\n",
    "'''\n",
    "\n",
    "#Write your function here\n",
    " \n",
    "\n",
    "\n",
    "#Main algorithm     \n",
    "\n",
    "result2 = calc_ceiling_space(24.0, 10.0)\n",
    "print('{} length {} width = {} ceiling space'.format(24.0, 10.0,result2))\n",
    "\n",
    "result2 = calc_ceiling_space(7.5, 11.5)\n",
    "print('{} length {} width = {} ceiling space'.format(7.5, 11.5,result2))\n",
    "   "
   ]
  },
  {
   "cell_type": "code",
   "execution_count": null,
   "metadata": {},
   "outputs": [],
   "source": [
    "'''\n",
    "Task4\n",
    "'''\n",
    "\n",
    "#Write your function here\n",
    "\n",
    "\n",
    "\n",
    "#Main algorithm\n",
    "\n",
    "result3 = calc_wall_space(15.0, 12.0, 10.0) #length, width, height\n",
    "print('{} length {} width {} height  =  {} wall space'.format(15.0, 12.0, 10.0, result3))\n",
    "\n",
    "result3 = calc_wall_space(11.75, 10.5, 8.0) #length, width, height\n",
    "print('{} length {} width {} height =  {} wall space'.format(11.75, 10.5, 8.0, result3))\n",
    "\n"
   ]
  },
  {
   "cell_type": "code",
   "execution_count": null,
   "metadata": {},
   "outputs": [],
   "source": [
    "'''\n",
    "Task5\n",
    "'''\n",
    "\n",
    "#Write your function here\n",
    "\n",
    "\n",
    "#Main algorithm\n",
    "\n",
    "result4 = calc_room_space(15.0, 12.0, 10.0)\n",
    "print('{} length {} width {} height  =  {} room space'.format(15.0, 12.0, 10.0, result4))\n",
    "\n",
    "result4 = calc_room_space(8.5, 9.6, 10.7)\n",
    "print('{} length {} width {} height  =  {} room space'.format(8.5, 9.6, 10.7, result4))\n",
    "\n"
   ]
  },
  {
   "cell_type": "code",
   "execution_count": null,
   "metadata": {},
   "outputs": [],
   "source": [
    "'''\n",
    "Task6\n",
    "'''\n",
    "\n",
    "#Write your function here\n",
    "\n",
    "\n",
    "\n",
    "#Main algorithm\n",
    "\n",
    "gallons = paint_amount(58, 30, 10)\n",
    "print('{} length {} width {} height  =  {} paint'.format(58, 30, 10, gallons))\n",
    "\n",
    "gallons = paint_amount(16.75, 19.5, 10.0)\n",
    "print('{} length {} width {} height  =  {} paint'.format(16.75, 19.5, 10.0, gallons))\n"
   ]
  },
  {
   "cell_type": "code",
   "execution_count": null,
   "metadata": {},
   "outputs": [],
   "source": [
    "'''\n",
    "Task 7\n",
    "'''\n",
    "\n",
    "#write your function here\n",
    "\n",
    "\n",
    "\n",
    "#Main algorithm\n",
    "\n",
    "cost = renovation_cost(12,6, 10,9, 8,6)\n",
    "print('{} ft {} inch length {} ft {} inch width {} ft {} inch height  =  {} cost'.format(12,6, 10,9, 8,6, cost))\n",
    "\n",
    "cost = renovation_cost(15,7, 12,5, 10,2)\n",
    "print('{} ft {} inch length {} ft {} inch width {} ft {} inch height  =  {} cost'.format(15,7, 12,5, 10,2, cost))\n",
    "\n"
   ]
  },
  {
   "cell_type": "code",
   "execution_count": null,
   "metadata": {},
   "outputs": [],
   "source": []
  }
 ],
 "metadata": {
  "kernelspec": {
   "display_name": "Python 3",
   "language": "python",
   "name": "python3"
  },
  "language_info": {
   "codemirror_mode": {
    "name": "ipython",
    "version": 3
   },
   "file_extension": ".py",
   "mimetype": "text/x-python",
   "name": "python",
   "nbconvert_exporter": "python",
   "pygments_lexer": "ipython3",
   "version": "3.6.9"
  }
 },
 "nbformat": 4,
 "nbformat_minor": 2
}
