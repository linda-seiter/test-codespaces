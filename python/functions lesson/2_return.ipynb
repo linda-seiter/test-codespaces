{
 "cells": [
  {
   "cell_type": "code",
   "execution_count": 2,
   "metadata": {},
   "outputs": [],
   "source": [
    "import math"
   ]
  },
  {
   "cell_type": "code",
   "execution_count": 4,
   "metadata": {},
   "outputs": [
    {
     "name": "stdout",
     "output_type": "stream",
     "text": [
      "25.0\n",
      "261.6666666666667\n",
      "9.333333333333334\n"
     ]
    }
   ],
   "source": [
    "#Function returns the average of 3 numbers   \n",
    "def average ( num1,  num2,  num3) :\n",
    "    sum = num1 + num2 + num3\n",
    "    avg = sum / 3\n",
    "    return avg\n",
    "\n",
    "\n",
    "#Main algorithm    \n",
    "avg1 = average (5,20,50)\n",
    "print(avg1)\n",
    "\n",
    "\n",
    "avg2 = average (99,122,564)\n",
    "print(avg2)\n",
    "\n",
    "print (average ( 1,5,22))\n"
   ]
  },
  {
   "cell_type": "code",
   "execution_count": 5,
   "metadata": {},
   "outputs": [
    {
     "name": "stdout",
     "output_type": "stream",
     "text": [
      "8\n",
      "512\n",
      "6\n"
     ]
    }
   ],
   "source": [
    "#Function to return the largest of 2 numbers\n",
    "def get_largest( num1 , num2): \n",
    "    if num1 > num2:\n",
    "        return num1\n",
    "    else:\n",
    "        return num2\n",
    "\n",
    "    \n",
    "\n",
    "#main algorithm\n",
    "bigger_num = get_largest(8,4)  #assign function return value to bigger_num\n",
    "print(bigger_num)   \n",
    "\n",
    "print( get_largest(432,512) )   # print the return value without assigning to variable\n"
   ]
  },
  {
   "cell_type": "code",
   "execution_count": 6,
   "metadata": {},
   "outputs": [
    {
     "name": "stdout",
     "output_type": "stream",
     "text": [
      "502.6548245743669\n",
      "3.141592653589793\n"
     ]
    }
   ],
   "source": [
    "def volume_cylinder( radius,  height):\n",
    "    return math.pi * radius * radius * height;\n",
    "    #It is an error to have code that follows the return statement\n",
    "    print('code never reached')\n",
    "\n",
    "#main algorithm\n",
    "vol = volume_cylinder(4, 10)\n",
    "print(vol)\n",
    "vol = volume_cylinder(1,1)\n",
    "print(vol)"
   ]
  },
  {
   "cell_type": "code",
   "execution_count": 8,
   "metadata": {},
   "outputs": [
    {
     "name": "stdout",
     "output_type": "stream",
     "text": [
      "12 inch pizza has 1888.73 calories.\n",
      "14 inch pizza has 2570.77 calories.\n"
     ]
    }
   ],
   "source": [
    "#A function can call another function\n",
    "\n",
    "def calc_circle_area(circle_diameter):\n",
    "   \n",
    "    circle_radius = circle_diameter / 2.0\n",
    "    circle_area = math.pi * circle_radius * circle_radius\n",
    "    return circle_area\n",
    "\n",
    "def pizza_calories(pizza_diameter):\n",
    "    calories_per_square_inch = 16.7    # Regular crust pepperoni pizza\n",
    "   \n",
    "    #Call calc_circle_area function to get area of the pizza\n",
    "    pizza_area = calc_circle_area(pizza_diameter)\n",
    "    total_calories = pizza_area * calories_per_square_inch\n",
    "    return total_calories\n",
    "\n",
    "\n",
    "#main algorithm\n",
    "print('12 inch pizza has {:.2f} calories.'.format(pizza_calories(12.0)))\n",
    "print('14 inch pizza has {:.2f} calories.'.format(pizza_calories(14.0)))"
   ]
  },
  {
   "cell_type": "code",
   "execution_count": 12,
   "metadata": {},
   "outputs": [
    {
     "name": "stdout",
     "output_type": "stream",
     "text": [
      "True\n",
      "False\n",
      "False\n"
     ]
    }
   ],
   "source": [
    "#Function returns a boolean value True or False\n",
    "def isBetween(num, lo, high):\n",
    "    if (num > lo and num < high):\n",
    "        return True\n",
    "    else:\n",
    "        return False\n",
    "\n",
    "#main algorithm    \n",
    "result = isBetween(7,2,10)\n",
    "print(result)\n",
    "\n",
    "result = isBetween(10,5,8)\n",
    "print(result)\n",
    "\n",
    "result = isBetween(5,5,10)\n",
    "print(result)\n",
    "\n"
   ]
  },
  {
   "cell_type": "code",
   "execution_count": 13,
   "metadata": {},
   "outputs": [
    {
     "name": "stdout",
     "output_type": "stream",
     "text": [
      "True\n",
      "False\n",
      "False\n"
     ]
    }
   ],
   "source": [
    "#Another version that returns the boolean expression value\n",
    "def isBetween(num, lo, high):\n",
    "    return (num > lo and num < high)\n",
    "\n",
    "\n",
    "#main algorithm\n",
    "result = isBetween(7,2,10)\n",
    "print(result)\n",
    "\n",
    "result = isBetween(10,5,8)\n",
    "print(result)\n",
    "\n",
    "result = isBetween(5,5,10)\n",
    "print(result)\n",
    "\n"
   ]
  },
  {
   "cell_type": "code",
   "execution_count": null,
   "metadata": {},
   "outputs": [],
   "source": [
    "#If you define a function in one cell, you can call it in another cell (must run this cell first)\n",
    "\n",
    "def isEven(x):\n",
    "    if (x % 2 == 0):\n",
    "        return True\n",
    "    else:\n",
    "        return False"
   ]
  },
  {
   "cell_type": "code",
   "execution_count": null,
   "metadata": {},
   "outputs": [],
   "source": [
    "#Call isEven function (run previous cell first)\n",
    "print(isEven(7))\n",
    "print(isEven(8))"
   ]
  },
  {
   "cell_type": "code",
   "execution_count": 14,
   "metadata": {},
   "outputs": [
    {
     "name": "stdout",
     "output_type": "stream",
     "text": [
      "enter feet measurement for height:5\n",
      "enter inch measurement for height:4\n",
      "162.56\n"
     ]
    }
   ],
   "source": [
    "#CHALLENGE\n",
    "#Define function convert_to_cm to convert measurement given in feet and inches to centimeters\n",
    "#Parameters: ft , inch\n",
    "#NOTE: 2.54 cm per inch\n",
    "\n",
    "\n",
    "\n",
    "\n",
    "#main algorithm\n",
    "\n",
    "ht_feet = int(input('enter feet measurement for height:'))\n",
    "ht_inch = int(input('enter inch measurement for height:'))\n",
    "        \n",
    "cm = convert_to_cm(ht_feet, ht_inch)\n",
    "print(cm)\n"
   ]
  },
  {
   "cell_type": "code",
   "execution_count": 22,
   "metadata": {},
   "outputs": [
    {
     "name": "stdout",
     "output_type": "stream",
     "text": [
      "23.0\n",
      "60.0\n"
     ]
    }
   ],
   "source": [
    "#CHALLENGE:\n",
    "#Define function calculate_total_bill that takes 2 parameters: bill,num_people\n",
    "#The function should calculate the tip based on the number of people (20% if 6 or more, 15% if less than 6)\n",
    "#Return the total bill, including the tip\n",
    "\n",
    "\n",
    "\n",
    "#Main algorithm\n",
    "\n",
    "print(calculate_total_bill(20.00, 4))    #20+20*0.15 = 23\n",
    "print(calculate_total_bill(50, 7))     #50+50*0.2  = 60"
   ]
  }
 ],
 "metadata": {
  "kernelspec": {
   "display_name": "Python 3",
   "language": "python",
   "name": "python3"
  },
  "language_info": {
   "codemirror_mode": {
    "name": "ipython",
    "version": 3
   },
   "file_extension": ".py",
   "mimetype": "text/x-python",
   "name": "python",
   "nbconvert_exporter": "python",
   "pygments_lexer": "ipython3",
   "version": "3.6.9"
  }
 },
 "nbformat": 4,
 "nbformat_minor": 2
}
