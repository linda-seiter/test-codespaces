{
 "cells": [
  {
   "cell_type": "code",
   "execution_count": null,
   "metadata": {},
   "outputs": [],
   "source": []
  },
  {
   "cell_type": "code",
   "execution_count": null,
   "metadata": {},
   "outputs": [],
   "source": [
    "''' \n",
    "Task1  -printing function, no return statement\n",
    "'''\n",
    "#Add function here\n",
    "\n",
    "\n",
    "\n",
    "\n",
    "#Main algorithm. Add function  calls here\n",
    "\n",
    "\n"
   ]
  },
  {
   "cell_type": "code",
   "execution_count": null,
   "metadata": {},
   "outputs": [],
   "source": [
    "'''\n",
    "Task2a - print function with error checking\n",
    "'''\n",
    "#Add function here\n",
    "\n",
    "\n",
    "#Main algorithm.  Add your function calls here\n",
    "\n",
    "\n",
    "\n"
   ]
  },
  {
   "cell_type": "code",
   "execution_count": null,
   "metadata": {},
   "outputs": [],
   "source": [
    "'''\n",
    "Task2b - non-printing function, return a value\n",
    "'''\n",
    "#Add function here\n",
    "            \n",
    "\n",
    "#Main algorithm.  Add your function calls here\n",
    "\n",
    "\n"
   ]
  },
  {
   "cell_type": "code",
   "execution_count": null,
   "metadata": {
    "scrolled": true
   },
   "outputs": [],
   "source": [
    "'''\n",
    "Task3a - printing function, no return statement\n",
    "'''\n",
    "#Add function here\n",
    "    \n",
    "    \n",
    "#Main algorithm.  Add your function calls here\n",
    "\n"
   ]
  },
  {
   "cell_type": "code",
   "execution_count": null,
   "metadata": {
    "scrolled": true
   },
   "outputs": [],
   "source": [
    "'''\n",
    "Task3b  non-printing function, return a value\n",
    "'''\n",
    "#Add function here\n",
    "    \n",
    "    \n",
    "#Main algorithm.  Add your function calls here\n",
    "\n"
   ]
  }
 ],
 "metadata": {
  "kernelspec": {
   "display_name": "Python 3",
   "language": "python",
   "name": "python3"
  },
  "language_info": {
   "codemirror_mode": {
    "name": "ipython",
    "version": 3
   },
   "file_extension": ".py",
   "mimetype": "text/x-python",
   "name": "python",
   "nbconvert_exporter": "python",
   "pygments_lexer": "ipython3",
   "version": "3.6.9"
  }
 },
 "nbformat": 4,
 "nbformat_minor": 2
}
