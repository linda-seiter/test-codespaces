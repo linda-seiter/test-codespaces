{
 "cells": [
  {
   "cell_type": "code",
   "execution_count": null,
   "metadata": {},
   "outputs": [],
   "source": []
  },
  {
   "cell_type": "code",
   "execution_count": 19,
   "metadata": {},
   "outputs": [
    {
     "name": "stdout",
     "output_type": "stream",
     "text": [
      "15 slices split among 5 people = 3 slices per person.\n",
      "22 slices split among 4 people = 5 slices per person.\n",
      "2 slices leftover.\n",
      "33 slices split among 12 people = 2 slices per person.\n",
      "9 slices leftover.\n",
      "Number of people must exceed 0\n"
     ]
    }
   ],
   "source": [
    "''' \n",
    "Task1  -printing function, no return statement\n",
    "'''\n",
    "#Add function here\n",
    "def pizza_shares(slices, people):\n",
    "    if people > 0:\n",
    "        slices_per_person = slices // people\n",
    "        leftover_slices = slices % people\n",
    "        print ('{} slices split among {} people = {} slices per person.'.format(slices, people, slices_per_person))\n",
    "        if leftover_slices > 0:\n",
    "            print('{} slices leftover.'.format(leftover_slices))\n",
    "    else: \n",
    "        print('Number of people must exceed 0')\n",
    "#Main algorithm. Add function  calls here\n",
    "pizza_shares(15,5)\n",
    "pizza_shares(22,4)\n",
    "pizza_shares(8,0)\n"
   ]
  },
  {
   "cell_type": "code",
   "execution_count": 14,
   "metadata": {},
   "outputs": [
    {
     "name": "stdout",
     "output_type": "stream",
     "text": [
      "1500 steps = 0.75 miles\n",
      "Walk 500 more steps to meet 1 mile goal\n",
      "\n",
      "2000 steps = 1.0 miles\n",
      "Congratulations, you met the 1 mile goal\n",
      "\n",
      "2500 steps = 1.25 miles\n",
      "Congratulations, you met the 1 mile goal\n",
      "\n",
      "4250 steps = 2.125 miles\n",
      "Walk 1750 more steps to meet 3 mile goal\n",
      "\n",
      "6000 steps = 3.0 miles\n",
      "Congratulations, you met the 3 mile goal\n",
      "\n"
     ]
    }
   ],
   "source": [
    "'''\n",
    "Task2a print function with error checking\n",
    "'''\n",
    "#Add function here\n",
    "def pedometer(steps, goal):\n",
    "    miles_walked = steps / 2000\n",
    "    print('{} steps = {} miles'.format(steps, miles_walked))\n",
    "    remaining_steps = goal * 2000 - steps\n",
    "    if remaining_steps > 0:\n",
    "        print('Walk {} more steps to meet {} mile goal'.format(remaining_steps, goal))\n",
    "    else:\n",
    "        print('Congratulations, you met the {} mile goal'.format(goal))\n",
    "    print()\n",
    "\n",
    "#Main algorithm.  Add your function calls here\n",
    "\n",
    "pedometer(1500, 1)\n",
    "pedometer(2000, 1)\n",
    "pedometer(2500, 1)\n",
    "pedometer(4250, 3)\n",
    "pedometer(6000, 3)\n"
   ]
  },
  {
   "cell_type": "code",
   "execution_count": 16,
   "metadata": {},
   "outputs": [
    {
     "name": "stdout",
     "output_type": "stream",
     "text": [
      "Task2b tests passed\n"
     ]
    }
   ],
   "source": [
    "'''\n",
    "Task2b return steps to goal\n",
    "'''\n",
    "#Add function here\n",
    "def pedometer(steps, goal):\n",
    "    miles_walked = steps / 2000\n",
    "    remaining_steps = goal * 2000 - steps\n",
    "    if remaining_steps > 0:\n",
    "        return remaining_steps\n",
    "    else:\n",
    "        return 0\n",
    "            \n",
    "\n",
    "#Main algorithm.  Add your function calls here\n",
    "\n",
    "assert(pedometer(1500, 1) == 500)  #goal not met, need 500 more steps\n",
    "assert(pedometer(2000, 1) == 0)  #goal met, no more steps needed\n",
    "assert(pedometer(2500, 1) == 0)  #goal exceeded, no more steps needed\n",
    "assert(pedometer(4250, 3) == 1750)  #goal not met, need 1750 more steps\n",
    "assert(pedometer(6000, 3) == 0)  #goal met, no more steps needed\n",
    "\n",
    "print('Task2b tests passed')\n",
    "\n"
   ]
  },
  {
   "cell_type": "code",
   "execution_count": 7,
   "metadata": {
    "scrolled": true
   },
   "outputs": [
    {
     "name": "stdout",
     "output_type": "stream",
     "text": [
      "5.00 gallons need for 100 miles based on 20 mpg\n",
      "5.00 gallons at $2.50 per gallon = $12.50\n",
      "\n",
      "15.45 gallons need for 510 miles based on 33 mpg\n",
      "15.45 gallons at $2.75 per gallon = $42.50\n",
      "\n",
      "mpg must be positive\n",
      "\n"
     ]
    }
   ],
   "source": [
    "'''\n",
    "Task3a\n",
    "'''\n",
    "#Add function here\n",
    "def driving_cost( distance,  mpg, cost_gallon):\n",
    "    if mpg > 0:\n",
    "        gallons = distance / mpg\n",
    "        cost = gallons * cost_gallon\n",
    "        print('{:.2f} gallons need for {} miles based on {} mpg'\n",
    "                  .format(gallons, distance, mpg))\n",
    "        print('{:.2f} gallons at ${:.2f} per gallon = ${:.2f}'\n",
    "                  .format(gallons, cost_gallon, cost))\n",
    "    else:\n",
    "        print('mpg must be positive')\n",
    "    \n",
    "    \n",
    "#Main algorithm.  Add your function calls here\n",
    "\n",
    "driving_cost(100,20,2.50)\n",
    "\n",
    "driving_cost(510,33,2.75)\n",
    "\n",
    "driving_cost(100,0,1.75)"
   ]
  },
  {
   "cell_type": "code",
   "execution_count": 21,
   "metadata": {
    "scrolled": true
   },
   "outputs": [
    {
     "name": "stdout",
     "output_type": "stream",
     "text": [
      "Task3b tests passed\n"
     ]
    }
   ],
   "source": [
    "'''\n",
    "Task3b\n",
    "'''\n",
    "#Add function here\n",
    "def driving_cost( distance,  mpg, cost_gallon):\n",
    "    if mpg > 0:\n",
    "        gallons = distance / mpg\n",
    "        cost = gallons * cost_gallon\n",
    "        return cost\n",
    "    else:\n",
    "        return \"mpg must be positive\"\n",
    "    \n",
    "    \n",
    "#Main algorithm.  Add your function calls here\n",
    "\n",
    "assert(driving_cost(100,20,2.50) == 12.50)\n",
    "\n",
    "assert(driving_cost(510,33,2.75) == 42.50)\n",
    "\n",
    "assert(driving_cost(100,0,1.75) == \"mpg must be positive\")\n",
    "\n",
    "print('Task3b tests passed')"
   ]
  }
 ],
 "metadata": {
  "kernelspec": {
   "display_name": "Python 3",
   "language": "python",
   "name": "python3"
  },
  "language_info": {
   "codemirror_mode": {
    "name": "ipython",
    "version": 3
   },
   "file_extension": ".py",
   "mimetype": "text/x-python",
   "name": "python",
   "nbconvert_exporter": "python",
   "pygments_lexer": "ipython3",
   "version": "3.6.9"
  }
 },
 "nbformat": 4,
 "nbformat_minor": 2
}
