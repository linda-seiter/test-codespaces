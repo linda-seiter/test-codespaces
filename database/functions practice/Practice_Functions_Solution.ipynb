{
 "cells": [
  {
   "cell_type": "markdown",
   "metadata": {},
   "source": [
    "<div style=\"background-color:darkgreen; text-align:center; font-color:white; vertical-align: middle; padding:10px;\">\n",
    "<font color=\"white\" size = 5 >Functions and Grouping </font>\n",
    "</div>"
   ]
  },
  {
   "cell_type": "markdown",
   "metadata": {},
   "source": [
    "Functions\n",
    "---------------------"
   ]
  },
  {
   "cell_type": "code",
   "execution_count": null,
   "metadata": {},
   "outputs": [],
   "source": [
    "%load_ext sql\n",
    "%sql sqlite:///chinook.db    "
   ]
  },
  {
   "cell_type": "markdown",
   "metadata": {},
   "source": [
    "--\n",
    " \n",
    "**`%sql` is used for single line SQL commands:**  \n",
    "**`%%sql` is used for multiple lines SQL commands:**\n"
   ]
  },
  {
   "cell_type": "code",
   "execution_count": null,
   "metadata": {},
   "outputs": [],
   "source": [
    "%%sql \n",
    "\n",
    "SELECT *\n",
    "FROM Employees\n",
    "LIMIT 5;"
   ]
  },
  {
   "cell_type": "code",
   "execution_count": null,
   "metadata": {},
   "outputs": [],
   "source": [
    "%%sql \n",
    "\n",
    "SELECT *\n",
    "FROM Customers\n",
    "LIMIT 5;"
   ]
  },
  {
   "cell_type": "code",
   "execution_count": null,
   "metadata": {},
   "outputs": [],
   "source": [
    "%%sql \n",
    "\n",
    "-- Use * to count the number of rows returned from a query\n",
    "\n",
    "SELECT count(*)\n",
    "FROM Employees;"
   ]
  },
  {
   "cell_type": "code",
   "execution_count": null,
   "metadata": {},
   "outputs": [],
   "source": [
    "%%sql \n",
    "\n",
    "-- What about counting distinct job titles in the Employees table?\n",
    "-- First just display the distinct titles\n",
    "\n",
    "SELECT distinct title\n",
    "FROM Employees;"
   ]
  },
  {
   "cell_type": "code",
   "execution_count": null,
   "metadata": {},
   "outputs": [],
   "source": [
    "%%sql \n",
    "\n",
    "-- What we want to count is the result of selecting the distinct titles\n",
    "\n",
    "SELECT count(distinct title) as \"#titles\"\n",
    "FROM Employees;"
   ]
  },
  {
   "cell_type": "code",
   "execution_count": null,
   "metadata": {},
   "outputs": [],
   "source": [
    "%%sql \n",
    "\n",
    "-- NOT CORRECT! Notice this just returns a count of the number of rows since each row has a value in the title column.\n",
    "\n",
    "SELECT count (title) as \"#titles\"\n",
    "FROM Employees;"
   ]
  },
  {
   "cell_type": "code",
   "execution_count": null,
   "metadata": {},
   "outputs": [],
   "source": [
    "%%sql \n",
    "\n",
    "-- TASK1: Show each job title and a count of the number of employees\n",
    "\n",
    "SELECT Title, count(*)\n",
    "FROM Employees\n",
    "GROUP BY Title;"
   ]
  },
  {
   "cell_type": "code",
   "execution_count": null,
   "metadata": {},
   "outputs": [],
   "source": [
    "%%sql \n",
    "\n",
    "-- Task2: How many customers per country?  \n",
    "SELECT Country, count(*) as \"#customers\"\n",
    "FROM Customers\n",
    "GROUP BY Country;"
   ]
  },
  {
   "cell_type": "code",
   "execution_count": null,
   "metadata": {},
   "outputs": [],
   "source": [
    "%%sql \n",
    "\n",
    "-- Task2: How many customers per country and city?  Sort in descending order.\n",
    "    \n",
    "SELECT Country, City, count(*) as \"#customers\"\n",
    "FROM Customers\n",
    "GROUP BY Country, City\n",
    "ORDER BY \"#customers\" desc;"
   ]
  },
  {
   "cell_type": "code",
   "execution_count": null,
   "metadata": {},
   "outputs": [],
   "source": [
    "%%sql \n",
    "\n",
    "-- Task3: How many customers from USA?\n",
    "    \n",
    "SELECT count(*) as \"#customers\"\n",
    "FROM Customers\n",
    "WHERE Country = 'USA'"
   ]
  },
  {
   "cell_type": "code",
   "execution_count": null,
   "metadata": {},
   "outputs": [],
   "source": [
    "%%sql\n",
    "\n",
    "SELECT *\n",
    "FROM Invoices\n",
    "LIMIT 5;\n"
   ]
  },
  {
   "cell_type": "code",
   "execution_count": null,
   "metadata": {},
   "outputs": [],
   "source": [
    "%%sql\n",
    "\n",
    "-- Task4: The total column represents the total invoice cost.\n",
    "-- What is the min, max, and average invoice total?  Display column headings as shown.  \n",
    "-- Round the average to 2 digits after decimal point.\n",
    "\n",
    "SELECT min(Total) as \"cheapest\", max(Total) as \"most expensive\", round(avg(Total),2) as \"average\"\n",
    "FROM Invoices;\n"
   ]
  },
  {
   "cell_type": "code",
   "execution_count": null,
   "metadata": {},
   "outputs": [],
   "source": [
    "%%sql\n",
    "\n",
    "-- Task5: The total column represents the total invoice cost.\n",
    "-- What is the average invoice total per billing country?  \n",
    "-- Round the average to 2 digits after decimal point.\n",
    "-- Sort by descending order\n",
    "\n",
    "SELECT billingcountry, round(avg(Total),2) as \"average\"\n",
    "FROM Invoices\n",
    "GROUP BY billingcountry\n",
    "ORDER BY average desc;\n"
   ]
  },
  {
   "cell_type": "code",
   "execution_count": null,
   "metadata": {},
   "outputs": [],
   "source": [
    "%%sql\n",
    "\n",
    "-- Task6 - How many invoices with billing country of USA or Canada?\n",
    "\n",
    "SELECT BillingCountry, count(*)\n",
    "FROM Invoices\n",
    "WHERE BillingCountry in ('USA', 'Canada')\n",
    "GROUP BY BillingCountry;"
   ]
  },
  {
   "cell_type": "code",
   "execution_count": null,
   "metadata": {},
   "outputs": [],
   "source": [
    "%%sql\n",
    "\n",
    "-- Task7: Which countries result in most sales? Keep in mind the total column  represents the total for one invoice.\n",
    "-- You need to sum up the total column.  Display results with total sales over 100.\n",
    "\n",
    "SELECT billingcountry, sum(total) as \"total invoice billing\"\n",
    "FROM Invoices\n",
    "GROUP BY billingcountry\n",
    "HAVING \"total invoice billing\" > 100;\n"
   ]
  },
  {
   "cell_type": "code",
   "execution_count": null,
   "metadata": {},
   "outputs": [],
   "source": [
    "%%sql\n",
    "\n",
    "-- Task8: Show the number of invoices for each billing city in the USA.  \n",
    "-- Do not hardcode Mountain View in your query.  \n",
    "\n",
    "SELECT billingcity, count(total) as \"#invoices\"\n",
    "FROM Invoices\n",
    "WHERE billingcountry = 'USA'\n",
    "GROUP BY billingcity\n",
    "HAVING \"#invoices\" > 10;\n",
    "\n",
    "\n"
   ]
  },
  {
   "cell_type": "code",
   "execution_count": null,
   "metadata": {},
   "outputs": [],
   "source": []
  }
 ],
 "metadata": {
  "kernelspec": {
   "display_name": "Python 3",
   "language": "python",
   "name": "python3"
  },
  "language_info": {
   "codemirror_mode": {
    "name": "ipython",
    "version": 3
   },
   "file_extension": ".py",
   "mimetype": "text/x-python",
   "name": "python",
   "nbconvert_exporter": "python",
   "pygments_lexer": "ipython3",
   "version": "3.6.9"
  }
 },
 "nbformat": 4,
 "nbformat_minor": 1
}
