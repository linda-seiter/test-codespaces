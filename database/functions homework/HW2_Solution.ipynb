{
 "cells": [
  {
   "cell_type": "markdown",
   "metadata": {},
   "source": [
    "<div style=\"background-color:darkgreen; text-align:center; font-color:white; vertical-align: middle; padding:30px;\">\n",
    "<font color=\"white\" size = 20>NBA Team Database </font>\n",
    "</div>"
   ]
  },
  {
   "cell_type": "markdown",
   "metadata": {},
   "source": [
    "### Instructions / Notes:\n",
    "\n",
    "* You **may** create new Jupyter notebook cells to use for e.g. testing, debugging, exploring, etc.- this is encouraged in fact!\n",
    "* Remember:\n",
    "    * `%sql [SQL]` is for _single line_ SQL queries\n",
    "    * `%%sql \n",
    "    [SQL]` is for _multi line_ SQL queries"
   ]
  },
  {
   "cell_type": "markdown",
   "metadata": {},
   "source": [
    "### The dataset contains aggregate team statistics for 1980 - 2018 NBA seasons\n",
    "To start, let's look at the primary relation in the database we've prepared for you.  \n",
    "Select Cell/Run All.  This will load sql and connect to the database."
   ]
  },
  {
   "cell_type": "code",
   "execution_count": 1,
   "metadata": {},
   "outputs": [],
   "source": [
    "%load_ext sql\n",
    "%sql sqlite:///nba.db"
   ]
  },
  {
   "cell_type": "code",
   "execution_count": 2,
   "metadata": {},
   "outputs": [
    {
     "name": "stdout",
     "output_type": "stream",
     "text": [
      " * sqlite:///nba.db\n",
      "Done.\n"
     ]
    },
    {
     "data": {
      "text/html": [
       "<table>\n",
       "    <tr>\n",
       "        <th>recordid</th>\n",
       "        <th>year</th>\n",
       "        <th>team</th>\n",
       "        <th>game</th>\n",
       "        <th>win</th>\n",
       "        <th>home</th>\n",
       "        <th>PTS</th>\n",
       "    </tr>\n",
       "    <tr>\n",
       "        <td>0</td>\n",
       "        <td>1980</td>\n",
       "        <td>Lakers</td>\n",
       "        <td>1</td>\n",
       "        <td>1</td>\n",
       "        <td>1</td>\n",
       "        <td>109</td>\n",
       "    </tr>\n",
       "    <tr>\n",
       "        <td>1</td>\n",
       "        <td>1980</td>\n",
       "        <td>Lakers</td>\n",
       "        <td>2</td>\n",
       "        <td>0</td>\n",
       "        <td>1</td>\n",
       "        <td>104</td>\n",
       "    </tr>\n",
       "    <tr>\n",
       "        <td>2</td>\n",
       "        <td>1980</td>\n",
       "        <td>Lakers</td>\n",
       "        <td>3</td>\n",
       "        <td>1</td>\n",
       "        <td>0</td>\n",
       "        <td>111</td>\n",
       "    </tr>\n",
       "    <tr>\n",
       "        <td>3</td>\n",
       "        <td>1980</td>\n",
       "        <td>Lakers</td>\n",
       "        <td>4</td>\n",
       "        <td>0</td>\n",
       "        <td>0</td>\n",
       "        <td>102</td>\n",
       "    </tr>\n",
       "    <tr>\n",
       "        <td>4</td>\n",
       "        <td>1980</td>\n",
       "        <td>Lakers</td>\n",
       "        <td>5</td>\n",
       "        <td>1</td>\n",
       "        <td>1</td>\n",
       "        <td>108</td>\n",
       "    </tr>\n",
       "</table>"
      ],
      "text/plain": [
       "[(0, 1980, 'Lakers', 1, 1, 1, 109),\n",
       " (1, 1980, 'Lakers', 2, 0, 1, 104),\n",
       " (2, 1980, 'Lakers', 3, 1, 0, 111),\n",
       " (3, 1980, 'Lakers', 4, 0, 0, 102),\n",
       " (4, 1980, 'Lakers', 5, 1, 1, 108)]"
      ]
     },
     "execution_count": 2,
     "metadata": {},
     "output_type": "execute_result"
    }
   ],
   "source": [
    "%%sql \n",
    "SELECT * \n",
    "FROM NBA\n",
    "LIMIT 5;"
   ]
  },
  {
   "cell_type": "code",
   "execution_count": 3,
   "metadata": {},
   "outputs": [
    {
     "name": "stdout",
     "output_type": "stream",
     "text": [
      " * sqlite:///nba.db\n",
      "Done.\n"
     ]
    },
    {
     "data": {
      "text/html": [
       "<table>\n",
       "    <tr>\n",
       "        <th>count(*)</th>\n",
       "    </tr>\n",
       "    <tr>\n",
       "        <td>220</td>\n",
       "    </tr>\n",
       "</table>"
      ],
      "text/plain": [
       "[(220,)]"
      ]
     },
     "execution_count": 3,
     "metadata": {},
     "output_type": "execute_result"
    }
   ],
   "source": [
    "%%sql\n",
    "-- Task1: How many records are in the NBA database?\n",
    "\n",
    "SELECT count(*)\n",
    "FROM NBA;"
   ]
  },
  {
   "cell_type": "code",
   "execution_count": 4,
   "metadata": {},
   "outputs": [
    {
     "name": "stdout",
     "output_type": "stream",
     "text": [
      " * sqlite:///nba.db\n",
      "Done.\n"
     ]
    },
    {
     "data": {
      "text/html": [
       "<table>\n",
       "    <tr>\n",
       "        <th># Teams</th>\n",
       "    </tr>\n",
       "    <tr>\n",
       "        <td>13</td>\n",
       "    </tr>\n",
       "</table>"
      ],
      "text/plain": [
       "[(13,)]"
      ]
     },
     "execution_count": 4,
     "metadata": {},
     "output_type": "execute_result"
    }
   ],
   "source": [
    "%%sql\n",
    "-- Task2: How many teams are in the database?  HINT: avoid counting duplicate team names.\n",
    "\n",
    "SELECT count(DISTINCT team) as \"# Teams\"\n",
    "FROM NBA;"
   ]
  },
  {
   "cell_type": "code",
   "execution_count": 5,
   "metadata": {},
   "outputs": [
    {
     "name": "stdout",
     "output_type": "stream",
     "text": [
      " * sqlite:///nba.db\n",
      "Done.\n"
     ]
    },
    {
     "data": {
      "text/html": [
       "<table>\n",
       "    <tr>\n",
       "        <th>low game</th>\n",
       "        <th>high game</th>\n",
       "        <th>avg game</th>\n",
       "    </tr>\n",
       "    <tr>\n",
       "        <td>77</td>\n",
       "        <td>120</td>\n",
       "        <td>100.42857142857143</td>\n",
       "    </tr>\n",
       "</table>"
      ],
      "text/plain": [
       "[(77, 120, 100.42857142857143)]"
      ]
     },
     "execution_count": 5,
     "metadata": {},
     "output_type": "execute_result"
    }
   ],
   "source": [
    "%%sql\n",
    "\n",
    "-- Task3:  Display the minimum, maximum, and average points for games played by the Cavaliers. \n",
    "    \n",
    "SELECT min(pts) as \"low game\", max(pts) as \"high game\", avg(pts) as \"avg game\"\n",
    "FROM NBA\n",
    "WHERE team = \"Cavaliers\";\n"
   ]
  },
  {
   "cell_type": "code",
   "execution_count": 6,
   "metadata": {},
   "outputs": [
    {
     "name": "stdout",
     "output_type": "stream",
     "text": [
      " * sqlite:///nba.db\n",
      "Done.\n"
     ]
    },
    {
     "data": {
      "text/html": [
       "<table>\n",
       "    <tr>\n",
       "        <th>team</th>\n",
       "        <th>#rows</th>\n",
       "    </tr>\n",
       "    <tr>\n",
       "        <td>&#x27;Heat&#x27;</td>\n",
       "        <td>1</td>\n",
       "    </tr>\n",
       "    <tr>\n",
       "        <td>Bulls</td>\n",
       "        <td>35</td>\n",
       "    </tr>\n",
       "    <tr>\n",
       "        <td>Cavaliers</td>\n",
       "        <td>7</td>\n",
       "    </tr>\n",
       "    <tr>\n",
       "        <td>Celtics</td>\n",
       "        <td>25</td>\n",
       "    </tr>\n",
       "    <tr>\n",
       "        <td>Heat</td>\n",
       "        <td>17</td>\n",
       "    </tr>\n",
       "    <tr>\n",
       "        <td>Lakers</td>\n",
       "        <td>58</td>\n",
       "    </tr>\n",
       "    <tr>\n",
       "        <td>Mavericks</td>\n",
       "        <td>6</td>\n",
       "    </tr>\n",
       "    <tr>\n",
       "        <td>Pistons</td>\n",
       "        <td>14</td>\n",
       "    </tr>\n",
       "    <tr>\n",
       "        <td>Rockets</td>\n",
       "        <td>11</td>\n",
       "    </tr>\n",
       "    <tr>\n",
       "        <td>Sixers</td>\n",
       "        <td>4</td>\n",
       "    </tr>\n",
       "    <tr>\n",
       "        <td>Spurs</td>\n",
       "        <td>27</td>\n",
       "    </tr>\n",
       "    <tr>\n",
       "        <td>Warriorrs</td>\n",
       "        <td>1</td>\n",
       "    </tr>\n",
       "    <tr>\n",
       "        <td>Warriors</td>\n",
       "        <td>14</td>\n",
       "    </tr>\n",
       "</table>"
      ],
      "text/plain": [
       "[(\"'Heat'\", 1),\n",
       " ('Bulls', 35),\n",
       " ('Cavaliers', 7),\n",
       " ('Celtics', 25),\n",
       " ('Heat', 17),\n",
       " ('Lakers', 58),\n",
       " ('Mavericks', 6),\n",
       " ('Pistons', 14),\n",
       " ('Rockets', 11),\n",
       " ('Sixers', 4),\n",
       " ('Spurs', 27),\n",
       " ('Warriorrs', 1),\n",
       " ('Warriors', 14)]"
      ]
     },
     "execution_count": 6,
     "metadata": {},
     "output_type": "execute_result"
    }
   ],
   "source": [
    "%%sql\n",
    "-- Task4: How many rows are in the table for each team? \n",
    "\n",
    "SELECT team, count(*) as \"#rows\"\n",
    "FROM NBA\n",
    "GROUP BY team;"
   ]
  },
  {
   "cell_type": "code",
   "execution_count": 7,
   "metadata": {},
   "outputs": [
    {
     "name": "stdout",
     "output_type": "stream",
     "text": [
      " * sqlite:///nba.db\n",
      "Done.\n"
     ]
    },
    {
     "data": {
      "text/html": [
       "<table>\n",
       "    <tr>\n",
       "        <th>year</th>\n",
       "        <th>max pts</th>\n",
       "        <th>average pts</th>\n",
       "    </tr>\n",
       "    <tr>\n",
       "        <td>1980</td>\n",
       "        <td>123</td>\n",
       "        <td>109.5</td>\n",
       "    </tr>\n",
       "    <tr>\n",
       "        <td>1982</td>\n",
       "        <td>129</td>\n",
       "        <td>112.33333333333333</td>\n",
       "    </tr>\n",
       "    <tr>\n",
       "        <td>1985</td>\n",
       "        <td>136</td>\n",
       "        <td>115.83333333333333</td>\n",
       "    </tr>\n",
       "    <tr>\n",
       "        <td>1987</td>\n",
       "        <td>141</td>\n",
       "        <td>115.16666666666667</td>\n",
       "    </tr>\n",
       "    <tr>\n",
       "        <td>1988</td>\n",
       "        <td>108</td>\n",
       "        <td>98.71428571428571</td>\n",
       "    </tr>\n",
       "    <tr>\n",
       "        <td>2000</td>\n",
       "        <td>120</td>\n",
       "        <td>104.83333333333333</td>\n",
       "    </tr>\n",
       "    <tr>\n",
       "        <td>2001</td>\n",
       "        <td>108</td>\n",
       "        <td>100.6</td>\n",
       "    </tr>\n",
       "    <tr>\n",
       "        <td>2002</td>\n",
       "        <td>113</td>\n",
       "        <td>106.0</td>\n",
       "    </tr>\n",
       "    <tr>\n",
       "        <td>2009</td>\n",
       "        <td>104</td>\n",
       "        <td>100.6</td>\n",
       "    </tr>\n",
       "    <tr>\n",
       "        <td>2010</td>\n",
       "        <td>102</td>\n",
       "        <td>90.57142857142857</td>\n",
       "    </tr>\n",
       "</table>"
      ],
      "text/plain": [
       "[(1980, 123, 109.5),\n",
       " (1982, 129, 112.33333333333333),\n",
       " (1985, 136, 115.83333333333333),\n",
       " (1987, 141, 115.16666666666667),\n",
       " (1988, 108, 98.71428571428571),\n",
       " (2000, 120, 104.83333333333333),\n",
       " (2001, 108, 100.6),\n",
       " (2002, 113, 106.0),\n",
       " (2009, 104, 100.6),\n",
       " (2010, 102, 90.57142857142857)]"
      ]
     },
     "execution_count": 7,
     "metadata": {},
     "output_type": "execute_result"
    }
   ],
   "source": [
    "%%sql\n",
    "-- Task5: Display the highest and average number of points that the Lakers scored each year.\n",
    "\n",
    "SELECT year, max(pts) as \"max pts\", avg(pts) as \"average pts\"\n",
    "FROM NBA\n",
    "WHERE team = 'Lakers'\n",
    "GROUP BY year;"
   ]
  },
  {
   "cell_type": "code",
   "execution_count": 8,
   "metadata": {},
   "outputs": [
    {
     "name": "stdout",
     "output_type": "stream",
     "text": [
      " * sqlite:///nba.db\n",
      "Done.\n"
     ]
    },
    {
     "data": {
      "text/html": [
       "<table>\n",
       "    <tr>\n",
       "        <th>year</th>\n",
       "        <th>#games</th>\n",
       "    </tr>\n",
       "    <tr>\n",
       "        <td>1990</td>\n",
       "        <td>5</td>\n",
       "    </tr>\n",
       "    <tr>\n",
       "        <td>1991</td>\n",
       "        <td>5</td>\n",
       "    </tr>\n",
       "    <tr>\n",
       "        <td>1992</td>\n",
       "        <td>6</td>\n",
       "    </tr>\n",
       "    <tr>\n",
       "        <td>1993</td>\n",
       "        <td>6</td>\n",
       "    </tr>\n",
       "    <tr>\n",
       "        <td>1994</td>\n",
       "        <td>7</td>\n",
       "    </tr>\n",
       "    <tr>\n",
       "        <td>1995</td>\n",
       "        <td>4</td>\n",
       "    </tr>\n",
       "    <tr>\n",
       "        <td>1996</td>\n",
       "        <td>6</td>\n",
       "    </tr>\n",
       "    <tr>\n",
       "        <td>1997</td>\n",
       "        <td>6</td>\n",
       "    </tr>\n",
       "    <tr>\n",
       "        <td>1998</td>\n",
       "        <td>6</td>\n",
       "    </tr>\n",
       "    <tr>\n",
       "        <td>1999</td>\n",
       "        <td>5</td>\n",
       "    </tr>\n",
       "    <tr>\n",
       "        <td>2000</td>\n",
       "        <td>6</td>\n",
       "    </tr>\n",
       "</table>"
      ],
      "text/plain": [
       "[(1990, 5),\n",
       " (1991, 5),\n",
       " (1992, 6),\n",
       " (1993, 6),\n",
       " (1994, 7),\n",
       " (1995, 4),\n",
       " (1996, 6),\n",
       " (1997, 6),\n",
       " (1998, 6),\n",
       " (1999, 5),\n",
       " (2000, 6)]"
      ]
     },
     "execution_count": 8,
     "metadata": {},
     "output_type": "execute_result"
    }
   ],
   "source": [
    "%%sql\n",
    "\n",
    "-- Task6: Show the number of games played for all teams in the database each year between 1990 and 2000 (inclusive).  \n",
    "\n",
    "SELECT  year, count(*) as \"#games\"\n",
    "FROM NBA\n",
    "where year >= 1990 and year <= 2000\n",
    "GROUP BY year\n"
   ]
  },
  {
   "cell_type": "code",
   "execution_count": 9,
   "metadata": {},
   "outputs": [
    {
     "name": "stdout",
     "output_type": "stream",
     "text": [
      " * sqlite:///nba.db\n",
      "Done.\n"
     ]
    },
    {
     "data": {
      "text/html": [
       "<table>\n",
       "    <tr>\n",
       "        <th>team</th>\n",
       "        <th>home</th>\n",
       "        <th>avg points</th>\n",
       "    </tr>\n",
       "    <tr>\n",
       "        <td>&#x27;Heat&#x27;</td>\n",
       "        <td>1</td>\n",
       "        <td>88.0</td>\n",
       "    </tr>\n",
       "    <tr>\n",
       "        <td>Bulls</td>\n",
       "        <td>0</td>\n",
       "        <td>95.0</td>\n",
       "    </tr>\n",
       "    <tr>\n",
       "        <td>Bulls</td>\n",
       "        <td>1</td>\n",
       "        <td>99.0</td>\n",
       "    </tr>\n",
       "    <tr>\n",
       "        <td>Cavaliers</td>\n",
       "        <td>0</td>\n",
       "        <td>93.0</td>\n",
       "    </tr>\n",
       "    <tr>\n",
       "        <td>Cavaliers</td>\n",
       "        <td>1</td>\n",
       "        <td>111.0</td>\n",
       "    </tr>\n",
       "    <tr>\n",
       "        <td>Celtics</td>\n",
       "        <td>0</td>\n",
       "        <td>100.0</td>\n",
       "    </tr>\n",
       "    <tr>\n",
       "        <td>Celtics</td>\n",
       "        <td>1</td>\n",
       "        <td>111.0</td>\n",
       "    </tr>\n",
       "    <tr>\n",
       "        <td>Heat</td>\n",
       "        <td>0</td>\n",
       "        <td>93.0</td>\n",
       "    </tr>\n",
       "    <tr>\n",
       "        <td>Heat</td>\n",
       "        <td>1</td>\n",
       "        <td>102.0</td>\n",
       "    </tr>\n",
       "    <tr>\n",
       "        <td>Lakers</td>\n",
       "        <td>0</td>\n",
       "        <td>103.0</td>\n",
       "    </tr>\n",
       "    <tr>\n",
       "        <td>Lakers</td>\n",
       "        <td>1</td>\n",
       "        <td>108.0</td>\n",
       "    </tr>\n",
       "    <tr>\n",
       "        <td>Mavericks</td>\n",
       "        <td>0</td>\n",
       "        <td>95.0</td>\n",
       "    </tr>\n",
       "    <tr>\n",
       "        <td>Mavericks</td>\n",
       "        <td>1</td>\n",
       "        <td>95.0</td>\n",
       "    </tr>\n",
       "    <tr>\n",
       "        <td>Pistons</td>\n",
       "        <td>0</td>\n",
       "        <td>103.0</td>\n",
       "    </tr>\n",
       "    <tr>\n",
       "        <td>Pistons</td>\n",
       "        <td>1</td>\n",
       "        <td>100.0</td>\n",
       "    </tr>\n",
       "    <tr>\n",
       "        <td>Rockets</td>\n",
       "        <td>0</td>\n",
       "        <td>99.0</td>\n",
       "    </tr>\n",
       "    <tr>\n",
       "        <td>Rockets</td>\n",
       "        <td>1</td>\n",
       "        <td>94.0</td>\n",
       "    </tr>\n",
       "    <tr>\n",
       "        <td>Sixers</td>\n",
       "        <td>0</td>\n",
       "        <td>113.0</td>\n",
       "    </tr>\n",
       "    <tr>\n",
       "        <td>Sixers</td>\n",
       "        <td>1</td>\n",
       "        <td>108.0</td>\n",
       "    </tr>\n",
       "    <tr>\n",
       "        <td>Spurs</td>\n",
       "        <td>0</td>\n",
       "        <td>87.0</td>\n",
       "    </tr>\n",
       "    <tr>\n",
       "        <td>Spurs</td>\n",
       "        <td>1</td>\n",
       "        <td>92.0</td>\n",
       "    </tr>\n",
       "    <tr>\n",
       "        <td>Warriorrs</td>\n",
       "        <td>0</td>\n",
       "        <td>116.0</td>\n",
       "    </tr>\n",
       "    <tr>\n",
       "        <td>Warriors</td>\n",
       "        <td>0</td>\n",
       "        <td>106.0</td>\n",
       "    </tr>\n",
       "    <tr>\n",
       "        <td>Warriors</td>\n",
       "        <td>1</td>\n",
       "        <td>116.0</td>\n",
       "    </tr>\n",
       "</table>"
      ],
      "text/plain": [
       "[(\"'Heat'\", 1, 88.0),\n",
       " ('Bulls', 0, 95.0),\n",
       " ('Bulls', 1, 99.0),\n",
       " ('Cavaliers', 0, 93.0),\n",
       " ('Cavaliers', 1, 111.0),\n",
       " ('Celtics', 0, 100.0),\n",
       " ('Celtics', 1, 111.0),\n",
       " ('Heat', 0, 93.0),\n",
       " ('Heat', 1, 102.0),\n",
       " ('Lakers', 0, 103.0),\n",
       " ('Lakers', 1, 108.0),\n",
       " ('Mavericks', 0, 95.0),\n",
       " ('Mavericks', 1, 95.0),\n",
       " ('Pistons', 0, 103.0),\n",
       " ('Pistons', 1, 100.0),\n",
       " ('Rockets', 0, 99.0),\n",
       " ('Rockets', 1, 94.0),\n",
       " ('Sixers', 0, 113.0),\n",
       " ('Sixers', 1, 108.0),\n",
       " ('Spurs', 0, 87.0),\n",
       " ('Spurs', 1, 92.0),\n",
       " ('Warriorrs', 0, 116.0),\n",
       " ('Warriors', 0, 106.0),\n",
       " ('Warriors', 1, 116.0)]"
      ]
     },
     "execution_count": 9,
     "metadata": {},
     "output_type": "execute_result"
    }
   ],
   "source": [
    "%%sql\n",
    "\n",
    "-- Task7: Do teams play better at home? A value of 1 indicates a home game, while 0 indicates away.\n",
    "-- Display the average points for each team and each value of home.  Round the average to the nearest integer.\n",
    "    \n",
    "SELECT team, home, round(avg(pts)) as \"avg points\"\n",
    "FROM NBA\n",
    "GROUP BY team, home;\n"
   ]
  },
  {
   "cell_type": "code",
   "execution_count": 10,
   "metadata": {},
   "outputs": [
    {
     "name": "stdout",
     "output_type": "stream",
     "text": [
      " * sqlite:///nba.db\n",
      "Done.\n"
     ]
    },
    {
     "data": {
      "text/html": [
       "<table>\n",
       "    <tr>\n",
       "        <th>team</th>\n",
       "        <th>total wins</th>\n",
       "    </tr>\n",
       "    <tr>\n",
       "        <td>Lakers</td>\n",
       "        <td>40</td>\n",
       "    </tr>\n",
       "    <tr>\n",
       "        <td>Bulls</td>\n",
       "        <td>24</td>\n",
       "    </tr>\n",
       "    <tr>\n",
       "        <td>Spurs</td>\n",
       "        <td>20</td>\n",
       "    </tr>\n",
       "    <tr>\n",
       "        <td>Celtics</td>\n",
       "        <td>16</td>\n",
       "    </tr>\n",
       "    <tr>\n",
       "        <td>Heat</td>\n",
       "        <td>12</td>\n",
       "    </tr>\n",
       "    <tr>\n",
       "        <td>Pistons</td>\n",
       "        <td>12</td>\n",
       "    </tr>\n",
       "    <tr>\n",
       "        <td>Warriors</td>\n",
       "        <td>12</td>\n",
       "    </tr>\n",
       "</table>"
      ],
      "text/plain": [
       "[('Lakers', 40),\n",
       " ('Bulls', 24),\n",
       " ('Spurs', 20),\n",
       " ('Celtics', 16),\n",
       " ('Heat', 12),\n",
       " ('Pistons', 12),\n",
       " ('Warriors', 12)]"
      ]
     },
     "execution_count": 10,
     "metadata": {},
     "output_type": "execute_result"
    }
   ],
   "source": [
    "%%sql\n",
    "\n",
    "-- Task8: Which teams had the most wins?  \n",
    "-- Display the results in descending order of wins, and only show results for teams with more than 10 wins.\n",
    "-- If you are getting an incorrect result, consider what it is you want to do with the value in the win column.\n",
    "    \n",
    "SELECT team, sum(win) as \"total wins\"\n",
    "FROM NBA\n",
    "GROUP BY team\n",
    "HAVING \"total wins\" > 10\n",
    "ORDER BY \"total wins\" desc;\n"
   ]
  },
  {
   "cell_type": "code",
   "execution_count": 11,
   "metadata": {},
   "outputs": [
    {
     "name": "stdout",
     "output_type": "stream",
     "text": [
      " * sqlite:///nba.db\n",
      "Done.\n"
     ]
    },
    {
     "data": {
      "text/html": [
       "<table>\n",
       "    <tr>\n",
       "        <th>team</th>\n",
       "        <th># high scoring games</th>\n",
       "    </tr>\n",
       "    <tr>\n",
       "        <td>Bulls</td>\n",
       "        <td>2</td>\n",
       "    </tr>\n",
       "    <tr>\n",
       "        <td>Celtics</td>\n",
       "        <td>4</td>\n",
       "    </tr>\n",
       "    <tr>\n",
       "        <td>Heat</td>\n",
       "        <td>1</td>\n",
       "    </tr>\n",
       "    <tr>\n",
       "        <td>Lakers</td>\n",
       "        <td>6</td>\n",
       "    </tr>\n",
       "    <tr>\n",
       "        <td>Pistons</td>\n",
       "        <td>1</td>\n",
       "    </tr>\n",
       "    <tr>\n",
       "        <td>Warriors</td>\n",
       "        <td>4</td>\n",
       "    </tr>\n",
       "</table>"
      ],
      "text/plain": [
       "[('Bulls', 2),\n",
       " ('Celtics', 4),\n",
       " ('Heat', 1),\n",
       " ('Lakers', 6),\n",
       " ('Pistons', 1),\n",
       " ('Warriors', 4)]"
      ]
     },
     "execution_count": 11,
     "metadata": {},
     "output_type": "execute_result"
    }
   ],
   "source": [
    "%%sql\n",
    "\n",
    "-- Task9: We will consider a game with more than 120 points to be a high scoring game.\n",
    "-- Count the high scoring games for each team.\n",
    "\n",
    "SELECT team, count(*) as \"# high scoring games\"\n",
    "FROM NBA\n",
    "WHERE pts > 120\n",
    "GROUP BY team;\n"
   ]
  },
  {
   "cell_type": "code",
   "execution_count": 40,
   "metadata": {},
   "outputs": [
    {
     "name": "stdout",
     "output_type": "stream",
     "text": [
      " * sqlite:///nba.db\n",
      "Done.\n"
     ]
    },
    {
     "data": {
      "text/html": [
       "<table>\n",
       "    <tr>\n",
       "        <th>team</th>\n",
       "        <th>count(*)</th>\n",
       "    </tr>\n",
       "    <tr>\n",
       "        <td>Mavericks</td>\n",
       "        <td>6</td>\n",
       "    </tr>\n",
       "    <tr>\n",
       "        <td>Cavaliers</td>\n",
       "        <td>7</td>\n",
       "    </tr>\n",
       "    <tr>\n",
       "        <td>Rockets</td>\n",
       "        <td>11</td>\n",
       "    </tr>\n",
       "    <tr>\n",
       "        <td>Pistons</td>\n",
       "        <td>14</td>\n",
       "    </tr>\n",
       "    <tr>\n",
       "        <td>Warriors</td>\n",
       "        <td>14</td>\n",
       "    </tr>\n",
       "    <tr>\n",
       "        <td>Heat</td>\n",
       "        <td>17</td>\n",
       "    </tr>\n",
       "    <tr>\n",
       "        <td>Celtics</td>\n",
       "        <td>25</td>\n",
       "    </tr>\n",
       "    <tr>\n",
       "        <td>Spurs</td>\n",
       "        <td>27</td>\n",
       "    </tr>\n",
       "    <tr>\n",
       "        <td>Bulls</td>\n",
       "        <td>35</td>\n",
       "    </tr>\n",
       "    <tr>\n",
       "        <td>Lakers</td>\n",
       "        <td>58</td>\n",
       "    </tr>\n",
       "</table>"
      ],
      "text/plain": [
       "[('Mavericks', 6),\n",
       " ('Cavaliers', 7),\n",
       " ('Rockets', 11),\n",
       " ('Pistons', 14),\n",
       " ('Warriors', 14),\n",
       " ('Heat', 17),\n",
       " ('Celtics', 25),\n",
       " ('Spurs', 27),\n",
       " ('Bulls', 35),\n",
       " ('Lakers', 58)]"
      ]
     },
     "execution_count": 40,
     "metadata": {},
     "output_type": "execute_result"
    }
   ],
   "source": [
    "%%sql\n",
    "\n",
    "\n",
    "\n",
    "-- Task10\n",
    "-- Come up with  an interesting quesion about the data and write a query to answer it.\n",
    "-- Your query must use one or more functions and include all clauses in SFWGHO."
   ]
  },
  {
   "cell_type": "code",
   "execution_count": null,
   "metadata": {},
   "outputs": [],
   "source": []
  }
 ],
 "metadata": {
  "kernelspec": {
   "display_name": "Python 3",
   "language": "python",
   "name": "python3"
  },
  "language_info": {
   "codemirror_mode": {
    "name": "ipython",
    "version": 3
   },
   "file_extension": ".py",
   "mimetype": "text/x-python",
   "name": "python",
   "nbconvert_exporter": "python",
   "pygments_lexer": "ipython3",
   "version": "3.6.9"
  }
 },
 "nbformat": 4,
 "nbformat_minor": 1
}
