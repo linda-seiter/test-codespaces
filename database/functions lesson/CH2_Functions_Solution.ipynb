{
 "cells": [
  {
   "cell_type": "markdown",
   "metadata": {},
   "source": [
    "<div style=\"background-color:darkgreen; text-align:center; font-color:white; vertical-align: middle; padding:10px;\">\n",
    "<font color=\"white\" size = 5 >Functions and Grouping </font>\n",
    "</div>"
   ]
  },
  {
   "cell_type": "markdown",
   "metadata": {},
   "source": [
    "Functions\n",
    "---------------------"
   ]
  },
  {
   "cell_type": "markdown",
   "metadata": {},
   "source": [
    "#### Rentals Database\n",
    "The rentals database include include the following tables:\n",
    "\n",
    "\n",
    "\n",
    "Primary key of each relation is underlined.\n",
    "\n",
    "**accommodations** (<u>id</u> , title, location, price, room, rating, type) \n",
    "> * id - accommodation id\n",
    "> * title - accommodation title\n",
    "> * location - accommodation location\n",
    "> * price - accommodation price\n",
    "> * rating - accommodation rating (by company)\n",
    "> * type - accommodation type\n",
    "\n",
    "> * **id is a primary key**\n",
    "\n",
    "**ratings** (<u>userId</u>, <u>accoId</u>, rating)\n",
    "> * userId - user id\n",
    "> * accoId - accommodation id\n",
    "> * rating - rating of an accommodation by user\n",
    "\n",
    ">* **userId and accoId - primary key**\n",
    "\n"
   ]
  },
  {
   "cell_type": "code",
   "execution_count": 1,
   "metadata": {},
   "outputs": [],
   "source": [
    "%load_ext sql\n",
    "%sql sqlite:///rentals.db"
   ]
  },
  {
   "cell_type": "markdown",
   "metadata": {},
   "source": [
    "--\n",
    " \n",
    "**`%sql` is used for single line SQL commands:**  \n",
    "**`%%sql` is used for multiple lines SQL commands:**\n"
   ]
  },
  {
   "cell_type": "code",
   "execution_count": 2,
   "metadata": {},
   "outputs": [
    {
     "name": "stdout",
     "output_type": "stream",
     "text": [
      " * sqlite:///rentals.db\n",
      "Done.\n"
     ]
    },
    {
     "data": {
      "text/html": [
       "<table>\n",
       "    <tr>\n",
       "        <th>id</th>\n",
       "        <th>title</th>\n",
       "        <th>location</th>\n",
       "        <th>price</th>\n",
       "        <th>rooms</th>\n",
       "        <th>rating</th>\n",
       "        <th>type</th>\n",
       "    </tr>\n",
       "    <tr>\n",
       "        <td>1</td>\n",
       "        <td>Comfy Quiet Chalet</td>\n",
       "        <td>Vancouver</td>\n",
       "        <td>50</td>\n",
       "        <td>3</td>\n",
       "        <td>3.1</td>\n",
       "        <td>cottage</td>\n",
       "    </tr>\n",
       "    <tr>\n",
       "        <td>2</td>\n",
       "        <td>Cozy Calm Hut</td>\n",
       "        <td>London</td>\n",
       "        <td>65</td>\n",
       "        <td>2</td>\n",
       "        <td>4.1</td>\n",
       "        <td>cottage</td>\n",
       "    </tr>\n",
       "    <tr>\n",
       "        <td>3</td>\n",
       "        <td>Agreable Calm Place</td>\n",
       "        <td>London</td>\n",
       "        <td>65</td>\n",
       "        <td>4</td>\n",
       "        <td>4.8</td>\n",
       "        <td>house</td>\n",
       "    </tr>\n",
       "    <tr>\n",
       "        <td>4</td>\n",
       "        <td>Colossal Quiet Chateau</td>\n",
       "        <td>Paris</td>\n",
       "        <td>3400</td>\n",
       "        <td>16</td>\n",
       "        <td>2.7</td>\n",
       "        <td>castle</td>\n",
       "    </tr>\n",
       "    <tr>\n",
       "        <td>5</td>\n",
       "        <td>Homy Quiet Shack</td>\n",
       "        <td>Paris</td>\n",
       "        <td>50</td>\n",
       "        <td>1</td>\n",
       "        <td>1.1</td>\n",
       "        <td>cottage</td>\n",
       "    </tr>\n",
       "</table>"
      ],
      "text/plain": [
       "[(1, 'Comfy Quiet Chalet', 'Vancouver', 50, 3, 3.1, 'cottage'),\n",
       " (2, 'Cozy Calm Hut', 'London', 65, 2, 4.1, 'cottage'),\n",
       " (3, 'Agreable Calm Place', 'London', 65, 4, 4.8, 'house'),\n",
       " (4, 'Colossal Quiet Chateau', 'Paris', 3400, 16, 2.7, 'castle'),\n",
       " (5, 'Homy Quiet Shack', 'Paris', 50, 1, 1.1, 'cottage')]"
      ]
     },
     "execution_count": 2,
     "metadata": {},
     "output_type": "execute_result"
    }
   ],
   "source": [
    "%%sql \n",
    "\n",
    "-- LIMIT restricts how many rows are displayed\n",
    "\n",
    "SELECT * \n",
    "FROM accommodations\n",
    "LIMIT 5;"
   ]
  },
  {
   "cell_type": "code",
   "execution_count": 3,
   "metadata": {},
   "outputs": [
    {
     "name": "stdout",
     "output_type": "stream",
     "text": [
      " * sqlite:///rentals.db\n",
      "Done.\n"
     ]
    },
    {
     "data": {
      "text/html": [
       "<table>\n",
       "    <tr>\n",
       "        <th>userId</th>\n",
       "        <th>accoId</th>\n",
       "        <th>rating</th>\n",
       "    </tr>\n",
       "    <tr>\n",
       "        <td>10</td>\n",
       "        <td>1</td>\n",
       "        <td>1</td>\n",
       "    </tr>\n",
       "    <tr>\n",
       "        <td>18</td>\n",
       "        <td>1</td>\n",
       "        <td>2</td>\n",
       "    </tr>\n",
       "    <tr>\n",
       "        <td>13</td>\n",
       "        <td>1</td>\n",
       "        <td>1</td>\n",
       "    </tr>\n",
       "    <tr>\n",
       "        <td>7</td>\n",
       "        <td>2</td>\n",
       "        <td>2</td>\n",
       "    </tr>\n",
       "    <tr>\n",
       "        <td>4</td>\n",
       "        <td>2</td>\n",
       "        <td>2</td>\n",
       "    </tr>\n",
       "</table>"
      ],
      "text/plain": [
       "[(10, 1, 1), (18, 1, 2), (13, 1, 1), (7, 2, 2), (4, 2, 2)]"
      ]
     },
     "execution_count": 3,
     "metadata": {},
     "output_type": "execute_result"
    }
   ],
   "source": [
    "%%sql \n",
    "SELECT *  \n",
    "FROM ratings\n",
    "LIMIT 5;\n"
   ]
  },
  {
   "cell_type": "markdown",
   "metadata": {},
   "source": [
    "<div style=\"background-color:darkblue; text-align:center; font-color:white; vertical-align: middle; padding:10px;\">\n",
    "<font color=\"white\" size = 5 >Functions </font>\n",
    "</div>"
   ]
  },
  {
   "cell_type": "code",
   "execution_count": 4,
   "metadata": {},
   "outputs": [
    {
     "name": "stdout",
     "output_type": "stream",
     "text": [
      " * sqlite:///rentals.db\n",
      "Done.\n"
     ]
    },
    {
     "data": {
      "text/html": [
       "<table>\n",
       "    <tr>\n",
       "        <th>count(*)</th>\n",
       "    </tr>\n",
       "    <tr>\n",
       "        <td>99</td>\n",
       "    </tr>\n",
       "</table>"
      ],
      "text/plain": [
       "[(99,)]"
      ]
     },
     "execution_count": 4,
     "metadata": {},
     "output_type": "execute_result"
    }
   ],
   "source": [
    "%%sql\n",
    "\n",
    "-- Count the rows in the accommodations table\n",
    "\n",
    "SELECT count(*)\n",
    "FROM accommodations;"
   ]
  },
  {
   "cell_type": "code",
   "execution_count": 5,
   "metadata": {},
   "outputs": [
    {
     "name": "stdout",
     "output_type": "stream",
     "text": [
      " * sqlite:///rentals.db\n",
      "Done.\n"
     ]
    },
    {
     "data": {
      "text/html": [
       "<table>\n",
       "    <tr>\n",
       "        <th>count(*)</th>\n",
       "    </tr>\n",
       "    <tr>\n",
       "        <td>9</td>\n",
       "    </tr>\n",
       "</table>"
      ],
      "text/plain": [
       "[(9,)]"
      ]
     },
     "execution_count": 5,
     "metadata": {},
     "output_type": "execute_result"
    }
   ],
   "source": [
    "%%sql\n",
    "\n",
    "-- How many accommodations are in Paris?\n",
    "\n",
    "SELECT count(*)\n",
    "FROM accommodations\n",
    "WHERE location = 'Paris';"
   ]
  },
  {
   "cell_type": "code",
   "execution_count": 6,
   "metadata": {},
   "outputs": [
    {
     "name": "stdout",
     "output_type": "stream",
     "text": [
      " * sqlite:///rentals.db\n",
      "Done.\n"
     ]
    },
    {
     "data": {
      "text/html": [
       "<table>\n",
       "    <tr>\n",
       "        <th># castles</th>\n",
       "    </tr>\n",
       "    <tr>\n",
       "        <td>14</td>\n",
       "    </tr>\n",
       "</table>"
      ],
      "text/plain": [
       "[(14,)]"
      ]
     },
     "execution_count": 6,
     "metadata": {},
     "output_type": "execute_result"
    }
   ],
   "source": [
    "%%sql\n",
    "\n",
    "-- How many castles have a rating over 3.0?\n",
    "-- Display the result using column heading \"# castles\"\n",
    "\n",
    "SELECT count(*) as \"# castles\"\n",
    "FROM accommodations\n",
    "WHERE type = 'castle' AND rating > 3;"
   ]
  },
  {
   "cell_type": "code",
   "execution_count": 7,
   "metadata": {},
   "outputs": [
    {
     "name": "stdout",
     "output_type": "stream",
     "text": [
      " * sqlite:///rentals.db\n",
      "Done.\n"
     ]
    },
    {
     "data": {
      "text/html": [
       "<table>\n",
       "    <tr>\n",
       "        <th>Rating Min</th>\n",
       "        <th>Max</th>\n",
       "        <th>Avg</th>\n",
       "        <th>Sum</th>\n",
       "    </tr>\n",
       "    <tr>\n",
       "        <td>1.0</td>\n",
       "        <td>4.9</td>\n",
       "        <td>2.9686868686868686</td>\n",
       "        <td>293.9</td>\n",
       "    </tr>\n",
       "</table>"
      ],
      "text/plain": [
       "[(1.0, 4.9, 2.9686868686868686, 293.9)]"
      ]
     },
     "execution_count": 7,
     "metadata": {},
     "output_type": "execute_result"
    }
   ],
   "source": [
    "%%sql\n",
    "\n",
    "-- Display rating min, max, avg, and sum \n",
    "\n",
    "SELECT min(rating) as \"Rating Min\", \n",
    "       max(rating) as \"Max\", \n",
    "       avg(rating) as \"Avg\",\n",
    "       sum(rating) as \"Sum\"\n",
    "FROM accommodations;"
   ]
  },
  {
   "cell_type": "code",
   "execution_count": 8,
   "metadata": {},
   "outputs": [
    {
     "name": "stdout",
     "output_type": "stream",
     "text": [
      " * sqlite:///rentals.db\n",
      "Done.\n"
     ]
    },
    {
     "data": {
      "text/html": [
       "<table>\n",
       "    <tr>\n",
       "        <th>Rating Min</th>\n",
       "        <th>Max</th>\n",
       "        <th>Avg</th>\n",
       "        <th>Sum</th>\n",
       "    </tr>\n",
       "    <tr>\n",
       "        <td>1.0</td>\n",
       "        <td>4.9</td>\n",
       "        <td>2.97</td>\n",
       "        <td>293.9</td>\n",
       "    </tr>\n",
       "</table>"
      ],
      "text/plain": [
       "[(1.0, 4.9, 2.97, 293.9)]"
      ]
     },
     "execution_count": 8,
     "metadata": {},
     "output_type": "execute_result"
    }
   ],
   "source": [
    "%%sql\n",
    "\n",
    "-- The round function will restrict the number of digits after the decimal place.\n",
    "-- round(7.456789, 2)  will produce 7.45.  \n",
    "-- Use the round function to restrict the average to 2 digits after decimal place\n",
    "\n",
    "SELECT min(rating) as \"Rating Min\", \n",
    "       max(rating) as \"Max\", \n",
    "       round(avg(rating),2) as \"Avg\",\n",
    "       sum(rating) as \"Sum\"\n",
    "FROM accommodations;"
   ]
  },
  {
   "cell_type": "markdown",
   "metadata": {},
   "source": [
    "<div style=\"background-color:darkblue; text-align:center; font-color:white; vertical-align: middle; padding:10px;\">\n",
    "<font color=\"white\" size = 5 >GROUP BY </font>\n",
    "</div>"
   ]
  },
  {
   "cell_type": "code",
   "execution_count": 9,
   "metadata": {},
   "outputs": [
    {
     "name": "stdout",
     "output_type": "stream",
     "text": [
      " * sqlite:///rentals.db\n",
      "Done.\n"
     ]
    },
    {
     "data": {
      "text/html": [
       "<table>\n",
       "    <tr>\n",
       "        <th>type</th>\n",
       "        <th>count</th>\n",
       "    </tr>\n",
       "    <tr>\n",
       "        <td>castle</td>\n",
       "        <td>33</td>\n",
       "    </tr>\n",
       "    <tr>\n",
       "        <td>cottage</td>\n",
       "        <td>28</td>\n",
       "    </tr>\n",
       "    <tr>\n",
       "        <td>house</td>\n",
       "        <td>20</td>\n",
       "    </tr>\n",
       "    <tr>\n",
       "        <td>mansion</td>\n",
       "        <td>18</td>\n",
       "    </tr>\n",
       "</table>"
      ],
      "text/plain": [
       "[('castle', 33), ('cottage', 28), ('house', 20), ('mansion', 18)]"
      ]
     },
     "execution_count": 9,
     "metadata": {},
     "output_type": "execute_result"
    }
   ],
   "source": [
    "%%sql\n",
    "\n",
    "-- Display row count per type\n",
    "-- This requires the GROUP BY clause\n",
    "\n",
    "\n",
    "SELECT type, count(*) as \"count\"\n",
    "FROM accommodations\n",
    "GROUP BY type;"
   ]
  },
  {
   "cell_type": "code",
   "execution_count": 10,
   "metadata": {},
   "outputs": [
    {
     "name": "stdout",
     "output_type": "stream",
     "text": [
      " * sqlite:///rentals.db\n",
      "Done.\n"
     ]
    },
    {
     "data": {
      "text/html": [
       "<table>\n",
       "    <tr>\n",
       "        <th>type</th>\n",
       "        <th>count</th>\n",
       "    </tr>\n",
       "    <tr>\n",
       "        <td>house</td>\n",
       "        <td>99</td>\n",
       "    </tr>\n",
       "</table>"
      ],
      "text/plain": [
       "[('house', 99)]"
      ]
     },
     "execution_count": 10,
     "metadata": {},
     "output_type": "execute_result"
    }
   ],
   "source": [
    "%%sql\n",
    "\n",
    "-- THIS IS INCORRECT!  Missing a GROUP BY clause.  \n",
    "-- Displays the type found in last row along with the total row count\n",
    "\n",
    "SELECT type, count(*) as \"count\"\n",
    "FROM accommodations;"
   ]
  },
  {
   "cell_type": "code",
   "execution_count": 11,
   "metadata": {},
   "outputs": [
    {
     "name": "stdout",
     "output_type": "stream",
     "text": [
      " * sqlite:///rentals.db\n",
      "Done.\n"
     ]
    },
    {
     "data": {
      "text/html": [
       "<table>\n",
       "    <tr>\n",
       "        <th>type</th>\n",
       "        <th>location</th>\n",
       "        <th>count</th>\n",
       "    </tr>\n",
       "    <tr>\n",
       "        <td>castle</td>\n",
       "        <td>Auckland</td>\n",
       "        <td>1</td>\n",
       "    </tr>\n",
       "    <tr>\n",
       "        <td>castle</td>\n",
       "        <td>Berlin</td>\n",
       "        <td>3</td>\n",
       "    </tr>\n",
       "    <tr>\n",
       "        <td>castle</td>\n",
       "        <td>Buenos Aires</td>\n",
       "        <td>2</td>\n",
       "    </tr>\n",
       "    <tr>\n",
       "        <td>castle</td>\n",
       "        <td>London</td>\n",
       "        <td>2</td>\n",
       "    </tr>\n",
       "    <tr>\n",
       "        <td>castle</td>\n",
       "        <td>Melbourne</td>\n",
       "        <td>6</td>\n",
       "    </tr>\n",
       "    <tr>\n",
       "        <td>castle</td>\n",
       "        <td>NYC</td>\n",
       "        <td>2</td>\n",
       "    </tr>\n",
       "    <tr>\n",
       "        <td>castle</td>\n",
       "        <td>Paris</td>\n",
       "        <td>5</td>\n",
       "    </tr>\n",
       "    <tr>\n",
       "        <td>castle</td>\n",
       "        <td>San Francisco</td>\n",
       "        <td>2</td>\n",
       "    </tr>\n",
       "    <tr>\n",
       "        <td>castle</td>\n",
       "        <td>Seattle</td>\n",
       "        <td>5</td>\n",
       "    </tr>\n",
       "    <tr>\n",
       "        <td>castle</td>\n",
       "        <td>Tokyo</td>\n",
       "        <td>2</td>\n",
       "    </tr>\n",
       "    <tr>\n",
       "        <td>castle</td>\n",
       "        <td>Vancouver</td>\n",
       "        <td>3</td>\n",
       "    </tr>\n",
       "    <tr>\n",
       "        <td>cottage</td>\n",
       "        <td>Auckland</td>\n",
       "        <td>3</td>\n",
       "    </tr>\n",
       "    <tr>\n",
       "        <td>cottage</td>\n",
       "        <td>Berlin</td>\n",
       "        <td>1</td>\n",
       "    </tr>\n",
       "    <tr>\n",
       "        <td>cottage</td>\n",
       "        <td>Buenos Aires</td>\n",
       "        <td>2</td>\n",
       "    </tr>\n",
       "    <tr>\n",
       "        <td>cottage</td>\n",
       "        <td>London</td>\n",
       "        <td>3</td>\n",
       "    </tr>\n",
       "    <tr>\n",
       "        <td>cottage</td>\n",
       "        <td>Melbourne</td>\n",
       "        <td>3</td>\n",
       "    </tr>\n",
       "    <tr>\n",
       "        <td>cottage</td>\n",
       "        <td>NYC</td>\n",
       "        <td>3</td>\n",
       "    </tr>\n",
       "    <tr>\n",
       "        <td>cottage</td>\n",
       "        <td>Paris</td>\n",
       "        <td>2</td>\n",
       "    </tr>\n",
       "    <tr>\n",
       "        <td>cottage</td>\n",
       "        <td>San Francisco</td>\n",
       "        <td>6</td>\n",
       "    </tr>\n",
       "    <tr>\n",
       "        <td>cottage</td>\n",
       "        <td>Seattle</td>\n",
       "        <td>4</td>\n",
       "    </tr>\n",
       "    <tr>\n",
       "        <td>cottage</td>\n",
       "        <td>Vancouver</td>\n",
       "        <td>1</td>\n",
       "    </tr>\n",
       "    <tr>\n",
       "        <td>house</td>\n",
       "        <td>Auckland</td>\n",
       "        <td>1</td>\n",
       "    </tr>\n",
       "    <tr>\n",
       "        <td>house</td>\n",
       "        <td>Berlin</td>\n",
       "        <td>3</td>\n",
       "    </tr>\n",
       "    <tr>\n",
       "        <td>house</td>\n",
       "        <td>Dublin</td>\n",
       "        <td>1</td>\n",
       "    </tr>\n",
       "    <tr>\n",
       "        <td>house</td>\n",
       "        <td>London</td>\n",
       "        <td>3</td>\n",
       "    </tr>\n",
       "    <tr>\n",
       "        <td>house</td>\n",
       "        <td>Melbourne</td>\n",
       "        <td>1</td>\n",
       "    </tr>\n",
       "    <tr>\n",
       "        <td>house</td>\n",
       "        <td>NYC</td>\n",
       "        <td>3</td>\n",
       "    </tr>\n",
       "    <tr>\n",
       "        <td>house</td>\n",
       "        <td>Paris</td>\n",
       "        <td>1</td>\n",
       "    </tr>\n",
       "    <tr>\n",
       "        <td>house</td>\n",
       "        <td>San Francisco</td>\n",
       "        <td>1</td>\n",
       "    </tr>\n",
       "    <tr>\n",
       "        <td>house</td>\n",
       "        <td>Seattle</td>\n",
       "        <td>2</td>\n",
       "    </tr>\n",
       "    <tr>\n",
       "        <td>house</td>\n",
       "        <td>Tokyo</td>\n",
       "        <td>3</td>\n",
       "    </tr>\n",
       "    <tr>\n",
       "        <td>house</td>\n",
       "        <td>Vancouver</td>\n",
       "        <td>1</td>\n",
       "    </tr>\n",
       "    <tr>\n",
       "        <td>mansion</td>\n",
       "        <td>Auckland</td>\n",
       "        <td>2</td>\n",
       "    </tr>\n",
       "    <tr>\n",
       "        <td>mansion</td>\n",
       "        <td>Buenos Aires</td>\n",
       "        <td>1</td>\n",
       "    </tr>\n",
       "    <tr>\n",
       "        <td>mansion</td>\n",
       "        <td>Dublin</td>\n",
       "        <td>1</td>\n",
       "    </tr>\n",
       "    <tr>\n",
       "        <td>mansion</td>\n",
       "        <td>London</td>\n",
       "        <td>2</td>\n",
       "    </tr>\n",
       "    <tr>\n",
       "        <td>mansion</td>\n",
       "        <td>Melbourne</td>\n",
       "        <td>2</td>\n",
       "    </tr>\n",
       "    <tr>\n",
       "        <td>mansion</td>\n",
       "        <td>NYC</td>\n",
       "        <td>1</td>\n",
       "    </tr>\n",
       "    <tr>\n",
       "        <td>mansion</td>\n",
       "        <td>Paris</td>\n",
       "        <td>1</td>\n",
       "    </tr>\n",
       "    <tr>\n",
       "        <td>mansion</td>\n",
       "        <td>San Francisco</td>\n",
       "        <td>3</td>\n",
       "    </tr>\n",
       "    <tr>\n",
       "        <td>mansion</td>\n",
       "        <td>Seattle</td>\n",
       "        <td>3</td>\n",
       "    </tr>\n",
       "    <tr>\n",
       "        <td>mansion</td>\n",
       "        <td>Tokyo</td>\n",
       "        <td>1</td>\n",
       "    </tr>\n",
       "    <tr>\n",
       "        <td>mansion</td>\n",
       "        <td>Vancouver</td>\n",
       "        <td>1</td>\n",
       "    </tr>\n",
       "</table>"
      ],
      "text/plain": [
       "[('castle', 'Auckland', 1),\n",
       " ('castle', 'Berlin', 3),\n",
       " ('castle', 'Buenos Aires', 2),\n",
       " ('castle', 'London', 2),\n",
       " ('castle', 'Melbourne', 6),\n",
       " ('castle', 'NYC', 2),\n",
       " ('castle', 'Paris', 5),\n",
       " ('castle', 'San Francisco', 2),\n",
       " ('castle', 'Seattle', 5),\n",
       " ('castle', 'Tokyo', 2),\n",
       " ('castle', 'Vancouver', 3),\n",
       " ('cottage', 'Auckland', 3),\n",
       " ('cottage', 'Berlin', 1),\n",
       " ('cottage', 'Buenos Aires', 2),\n",
       " ('cottage', 'London', 3),\n",
       " ('cottage', 'Melbourne', 3),\n",
       " ('cottage', 'NYC', 3),\n",
       " ('cottage', 'Paris', 2),\n",
       " ('cottage', 'San Francisco', 6),\n",
       " ('cottage', 'Seattle', 4),\n",
       " ('cottage', 'Vancouver', 1),\n",
       " ('house', 'Auckland', 1),\n",
       " ('house', 'Berlin', 3),\n",
       " ('house', 'Dublin', 1),\n",
       " ('house', 'London', 3),\n",
       " ('house', 'Melbourne', 1),\n",
       " ('house', 'NYC', 3),\n",
       " ('house', 'Paris', 1),\n",
       " ('house', 'San Francisco', 1),\n",
       " ('house', 'Seattle', 2),\n",
       " ('house', 'Tokyo', 3),\n",
       " ('house', 'Vancouver', 1),\n",
       " ('mansion', 'Auckland', 2),\n",
       " ('mansion', 'Buenos Aires', 1),\n",
       " ('mansion', 'Dublin', 1),\n",
       " ('mansion', 'London', 2),\n",
       " ('mansion', 'Melbourne', 2),\n",
       " ('mansion', 'NYC', 1),\n",
       " ('mansion', 'Paris', 1),\n",
       " ('mansion', 'San Francisco', 3),\n",
       " ('mansion', 'Seattle', 3),\n",
       " ('mansion', 'Tokyo', 1),\n",
       " ('mansion', 'Vancouver', 1)]"
      ]
     },
     "execution_count": 11,
     "metadata": {},
     "output_type": "execute_result"
    }
   ],
   "source": [
    "%%sql\n",
    "\n",
    "-- Display row count per type and location\n",
    "-- GROUP BY must match non-function columns from SELECT clause\n",
    "\n",
    "SELECT type, location, count(*) as \"count\"\n",
    "FROM accommodations\n",
    "GROUP BY type, location;"
   ]
  },
  {
   "cell_type": "code",
   "execution_count": 12,
   "metadata": {},
   "outputs": [
    {
     "name": "stdout",
     "output_type": "stream",
     "text": [
      " * sqlite:///rentals.db\n",
      "Done.\n"
     ]
    },
    {
     "data": {
      "text/html": [
       "<table>\n",
       "    <tr>\n",
       "        <th>location</th>\n",
       "        <th>type</th>\n",
       "        <th>count</th>\n",
       "    </tr>\n",
       "    <tr>\n",
       "        <td>Auckland</td>\n",
       "        <td>castle</td>\n",
       "        <td>1</td>\n",
       "    </tr>\n",
       "    <tr>\n",
       "        <td>Auckland</td>\n",
       "        <td>cottage</td>\n",
       "        <td>3</td>\n",
       "    </tr>\n",
       "    <tr>\n",
       "        <td>Auckland</td>\n",
       "        <td>house</td>\n",
       "        <td>1</td>\n",
       "    </tr>\n",
       "    <tr>\n",
       "        <td>Auckland</td>\n",
       "        <td>mansion</td>\n",
       "        <td>2</td>\n",
       "    </tr>\n",
       "    <tr>\n",
       "        <td>Berlin</td>\n",
       "        <td>castle</td>\n",
       "        <td>3</td>\n",
       "    </tr>\n",
       "    <tr>\n",
       "        <td>Berlin</td>\n",
       "        <td>cottage</td>\n",
       "        <td>1</td>\n",
       "    </tr>\n",
       "    <tr>\n",
       "        <td>Berlin</td>\n",
       "        <td>house</td>\n",
       "        <td>3</td>\n",
       "    </tr>\n",
       "    <tr>\n",
       "        <td>Buenos Aires</td>\n",
       "        <td>castle</td>\n",
       "        <td>2</td>\n",
       "    </tr>\n",
       "    <tr>\n",
       "        <td>Buenos Aires</td>\n",
       "        <td>cottage</td>\n",
       "        <td>2</td>\n",
       "    </tr>\n",
       "    <tr>\n",
       "        <td>Buenos Aires</td>\n",
       "        <td>mansion</td>\n",
       "        <td>1</td>\n",
       "    </tr>\n",
       "    <tr>\n",
       "        <td>Dublin</td>\n",
       "        <td>house</td>\n",
       "        <td>1</td>\n",
       "    </tr>\n",
       "    <tr>\n",
       "        <td>Dublin</td>\n",
       "        <td>mansion</td>\n",
       "        <td>1</td>\n",
       "    </tr>\n",
       "    <tr>\n",
       "        <td>London</td>\n",
       "        <td>castle</td>\n",
       "        <td>2</td>\n",
       "    </tr>\n",
       "    <tr>\n",
       "        <td>London</td>\n",
       "        <td>cottage</td>\n",
       "        <td>3</td>\n",
       "    </tr>\n",
       "    <tr>\n",
       "        <td>London</td>\n",
       "        <td>house</td>\n",
       "        <td>3</td>\n",
       "    </tr>\n",
       "    <tr>\n",
       "        <td>London</td>\n",
       "        <td>mansion</td>\n",
       "        <td>2</td>\n",
       "    </tr>\n",
       "    <tr>\n",
       "        <td>Melbourne</td>\n",
       "        <td>castle</td>\n",
       "        <td>6</td>\n",
       "    </tr>\n",
       "    <tr>\n",
       "        <td>Melbourne</td>\n",
       "        <td>cottage</td>\n",
       "        <td>3</td>\n",
       "    </tr>\n",
       "    <tr>\n",
       "        <td>Melbourne</td>\n",
       "        <td>house</td>\n",
       "        <td>1</td>\n",
       "    </tr>\n",
       "    <tr>\n",
       "        <td>Melbourne</td>\n",
       "        <td>mansion</td>\n",
       "        <td>2</td>\n",
       "    </tr>\n",
       "    <tr>\n",
       "        <td>NYC</td>\n",
       "        <td>castle</td>\n",
       "        <td>2</td>\n",
       "    </tr>\n",
       "    <tr>\n",
       "        <td>NYC</td>\n",
       "        <td>cottage</td>\n",
       "        <td>3</td>\n",
       "    </tr>\n",
       "    <tr>\n",
       "        <td>NYC</td>\n",
       "        <td>house</td>\n",
       "        <td>3</td>\n",
       "    </tr>\n",
       "    <tr>\n",
       "        <td>NYC</td>\n",
       "        <td>mansion</td>\n",
       "        <td>1</td>\n",
       "    </tr>\n",
       "    <tr>\n",
       "        <td>Paris</td>\n",
       "        <td>castle</td>\n",
       "        <td>5</td>\n",
       "    </tr>\n",
       "    <tr>\n",
       "        <td>Paris</td>\n",
       "        <td>cottage</td>\n",
       "        <td>2</td>\n",
       "    </tr>\n",
       "    <tr>\n",
       "        <td>Paris</td>\n",
       "        <td>house</td>\n",
       "        <td>1</td>\n",
       "    </tr>\n",
       "    <tr>\n",
       "        <td>Paris</td>\n",
       "        <td>mansion</td>\n",
       "        <td>1</td>\n",
       "    </tr>\n",
       "    <tr>\n",
       "        <td>San Francisco</td>\n",
       "        <td>castle</td>\n",
       "        <td>2</td>\n",
       "    </tr>\n",
       "    <tr>\n",
       "        <td>San Francisco</td>\n",
       "        <td>cottage</td>\n",
       "        <td>6</td>\n",
       "    </tr>\n",
       "    <tr>\n",
       "        <td>San Francisco</td>\n",
       "        <td>house</td>\n",
       "        <td>1</td>\n",
       "    </tr>\n",
       "    <tr>\n",
       "        <td>San Francisco</td>\n",
       "        <td>mansion</td>\n",
       "        <td>3</td>\n",
       "    </tr>\n",
       "    <tr>\n",
       "        <td>Seattle</td>\n",
       "        <td>castle</td>\n",
       "        <td>5</td>\n",
       "    </tr>\n",
       "    <tr>\n",
       "        <td>Seattle</td>\n",
       "        <td>cottage</td>\n",
       "        <td>4</td>\n",
       "    </tr>\n",
       "    <tr>\n",
       "        <td>Seattle</td>\n",
       "        <td>house</td>\n",
       "        <td>2</td>\n",
       "    </tr>\n",
       "    <tr>\n",
       "        <td>Seattle</td>\n",
       "        <td>mansion</td>\n",
       "        <td>3</td>\n",
       "    </tr>\n",
       "    <tr>\n",
       "        <td>Tokyo</td>\n",
       "        <td>castle</td>\n",
       "        <td>2</td>\n",
       "    </tr>\n",
       "    <tr>\n",
       "        <td>Tokyo</td>\n",
       "        <td>house</td>\n",
       "        <td>3</td>\n",
       "    </tr>\n",
       "    <tr>\n",
       "        <td>Tokyo</td>\n",
       "        <td>mansion</td>\n",
       "        <td>1</td>\n",
       "    </tr>\n",
       "    <tr>\n",
       "        <td>Vancouver</td>\n",
       "        <td>castle</td>\n",
       "        <td>3</td>\n",
       "    </tr>\n",
       "    <tr>\n",
       "        <td>Vancouver</td>\n",
       "        <td>cottage</td>\n",
       "        <td>1</td>\n",
       "    </tr>\n",
       "    <tr>\n",
       "        <td>Vancouver</td>\n",
       "        <td>house</td>\n",
       "        <td>1</td>\n",
       "    </tr>\n",
       "    <tr>\n",
       "        <td>Vancouver</td>\n",
       "        <td>mansion</td>\n",
       "        <td>1</td>\n",
       "    </tr>\n",
       "</table>"
      ],
      "text/plain": [
       "[('Auckland', 'castle', 1),\n",
       " ('Auckland', 'cottage', 3),\n",
       " ('Auckland', 'house', 1),\n",
       " ('Auckland', 'mansion', 2),\n",
       " ('Berlin', 'castle', 3),\n",
       " ('Berlin', 'cottage', 1),\n",
       " ('Berlin', 'house', 3),\n",
       " ('Buenos Aires', 'castle', 2),\n",
       " ('Buenos Aires', 'cottage', 2),\n",
       " ('Buenos Aires', 'mansion', 1),\n",
       " ('Dublin', 'house', 1),\n",
       " ('Dublin', 'mansion', 1),\n",
       " ('London', 'castle', 2),\n",
       " ('London', 'cottage', 3),\n",
       " ('London', 'house', 3),\n",
       " ('London', 'mansion', 2),\n",
       " ('Melbourne', 'castle', 6),\n",
       " ('Melbourne', 'cottage', 3),\n",
       " ('Melbourne', 'house', 1),\n",
       " ('Melbourne', 'mansion', 2),\n",
       " ('NYC', 'castle', 2),\n",
       " ('NYC', 'cottage', 3),\n",
       " ('NYC', 'house', 3),\n",
       " ('NYC', 'mansion', 1),\n",
       " ('Paris', 'castle', 5),\n",
       " ('Paris', 'cottage', 2),\n",
       " ('Paris', 'house', 1),\n",
       " ('Paris', 'mansion', 1),\n",
       " ('San Francisco', 'castle', 2),\n",
       " ('San Francisco', 'cottage', 6),\n",
       " ('San Francisco', 'house', 1),\n",
       " ('San Francisco', 'mansion', 3),\n",
       " ('Seattle', 'castle', 5),\n",
       " ('Seattle', 'cottage', 4),\n",
       " ('Seattle', 'house', 2),\n",
       " ('Seattle', 'mansion', 3),\n",
       " ('Tokyo', 'castle', 2),\n",
       " ('Tokyo', 'house', 3),\n",
       " ('Tokyo', 'mansion', 1),\n",
       " ('Vancouver', 'castle', 3),\n",
       " ('Vancouver', 'cottage', 1),\n",
       " ('Vancouver', 'house', 1),\n",
       " ('Vancouver', 'mansion', 1)]"
      ]
     },
     "execution_count": 12,
     "metadata": {},
     "output_type": "execute_result"
    }
   ],
   "source": [
    "%%sql\n",
    "\n",
    "-- Display row count per type and location\n",
    "\n",
    "SELECT location, type, count(*) as \"count\"\n",
    "FROM accommodations\n",
    "GROUP BY location, type;"
   ]
  },
  {
   "cell_type": "code",
   "execution_count": 13,
   "metadata": {},
   "outputs": [
    {
     "name": "stdout",
     "output_type": "stream",
     "text": [
      " * sqlite:///rentals.db\n",
      "Done.\n"
     ]
    },
    {
     "data": {
      "text/html": [
       "<table>\n",
       "    <tr>\n",
       "        <th>location</th>\n",
       "        <th>average price</th>\n",
       "    </tr>\n",
       "    <tr>\n",
       "        <td>London</td>\n",
       "        <td>494.5</td>\n",
       "    </tr>\n",
       "    <tr>\n",
       "        <td>Dublin</td>\n",
       "        <td>592.5</td>\n",
       "    </tr>\n",
       "    <tr>\n",
       "        <td>Auckland</td>\n",
       "        <td>657.1428571428571</td>\n",
       "    </tr>\n",
       "    <tr>\n",
       "        <td>San Francisco</td>\n",
       "        <td>667.0833333333334</td>\n",
       "    </tr>\n",
       "    <tr>\n",
       "        <td>Tokyo</td>\n",
       "        <td>699.1666666666666</td>\n",
       "    </tr>\n",
       "    <tr>\n",
       "        <td>NYC</td>\n",
       "        <td>885.5555555555555</td>\n",
       "    </tr>\n",
       "    <tr>\n",
       "        <td>Buenos Aires</td>\n",
       "        <td>911.0</td>\n",
       "    </tr>\n",
       "    <tr>\n",
       "        <td>Berlin</td>\n",
       "        <td>1032.857142857143</td>\n",
       "    </tr>\n",
       "    <tr>\n",
       "        <td>Seattle</td>\n",
       "        <td>1216.0714285714287</td>\n",
       "    </tr>\n",
       "    <tr>\n",
       "        <td>Melbourne</td>\n",
       "        <td>1505.4166666666667</td>\n",
       "    </tr>\n",
       "    <tr>\n",
       "        <td>Paris</td>\n",
       "        <td>1583.3333333333333</td>\n",
       "    </tr>\n",
       "    <tr>\n",
       "        <td>Vancouver</td>\n",
       "        <td>1625.0</td>\n",
       "    </tr>\n",
       "</table>"
      ],
      "text/plain": [
       "[('London', 494.5),\n",
       " ('Dublin', 592.5),\n",
       " ('Auckland', 657.1428571428571),\n",
       " ('San Francisco', 667.0833333333334),\n",
       " ('Tokyo', 699.1666666666666),\n",
       " ('NYC', 885.5555555555555),\n",
       " ('Buenos Aires', 911.0),\n",
       " ('Berlin', 1032.857142857143),\n",
       " ('Seattle', 1216.0714285714287),\n",
       " ('Melbourne', 1505.4166666666667),\n",
       " ('Paris', 1583.3333333333333),\n",
       " ('Vancouver', 1625.0)]"
      ]
     },
     "execution_count": 13,
     "metadata": {},
     "output_type": "execute_result"
    }
   ],
   "source": [
    "%%sql\n",
    "\n",
    "-- Display average price per location. Sort results by average price\n",
    "\n",
    "SELECT location, avg(price) as \"average price\"\n",
    "FROM accommodations\n",
    "GROUP BY location\n",
    "ORDER BY avg(price);"
   ]
  },
  {
   "cell_type": "code",
   "execution_count": 14,
   "metadata": {},
   "outputs": [
    {
     "name": "stdout",
     "output_type": "stream",
     "text": [
      " * sqlite:///rentals.db\n",
      "Done.\n"
     ]
    },
    {
     "data": {
      "text/html": [
       "<table>\n",
       "    <tr>\n",
       "        <th>location</th>\n",
       "        <th>average price</th>\n",
       "    </tr>\n",
       "    <tr>\n",
       "        <td>London</td>\n",
       "        <td>495.0</td>\n",
       "    </tr>\n",
       "    <tr>\n",
       "        <td>Dublin</td>\n",
       "        <td>593.0</td>\n",
       "    </tr>\n",
       "    <tr>\n",
       "        <td>Auckland</td>\n",
       "        <td>657.0</td>\n",
       "    </tr>\n",
       "    <tr>\n",
       "        <td>San Francisco</td>\n",
       "        <td>667.0</td>\n",
       "    </tr>\n",
       "    <tr>\n",
       "        <td>Tokyo</td>\n",
       "        <td>699.0</td>\n",
       "    </tr>\n",
       "    <tr>\n",
       "        <td>NYC</td>\n",
       "        <td>886.0</td>\n",
       "    </tr>\n",
       "    <tr>\n",
       "        <td>Buenos Aires</td>\n",
       "        <td>911.0</td>\n",
       "    </tr>\n",
       "    <tr>\n",
       "        <td>Berlin</td>\n",
       "        <td>1033.0</td>\n",
       "    </tr>\n",
       "    <tr>\n",
       "        <td>Seattle</td>\n",
       "        <td>1216.0</td>\n",
       "    </tr>\n",
       "    <tr>\n",
       "        <td>Melbourne</td>\n",
       "        <td>1505.0</td>\n",
       "    </tr>\n",
       "    <tr>\n",
       "        <td>Paris</td>\n",
       "        <td>1583.0</td>\n",
       "    </tr>\n",
       "    <tr>\n",
       "        <td>Vancouver</td>\n",
       "        <td>1625.0</td>\n",
       "    </tr>\n",
       "</table>"
      ],
      "text/plain": [
       "[('London', 495.0),\n",
       " ('Dublin', 593.0),\n",
       " ('Auckland', 657.0),\n",
       " ('San Francisco', 667.0),\n",
       " ('Tokyo', 699.0),\n",
       " ('NYC', 886.0),\n",
       " ('Buenos Aires', 911.0),\n",
       " ('Berlin', 1033.0),\n",
       " ('Seattle', 1216.0),\n",
       " ('Melbourne', 1505.0),\n",
       " ('Paris', 1583.0),\n",
       " ('Vancouver', 1625.0)]"
      ]
     },
     "execution_count": 14,
     "metadata": {},
     "output_type": "execute_result"
    }
   ],
   "source": [
    "%%sql\n",
    "\n",
    "-- Same query, round average price to whole dollars\n",
    "\n",
    "SELECT location, round(avg(price)) as \"average price\"\n",
    "FROM accommodations\n",
    "GROUP BY location\n",
    "ORDER BY \"average price\";"
   ]
  },
  {
   "cell_type": "markdown",
   "metadata": {},
   "source": [
    "<div style=\"background-color:darkblue; text-align:center; font-color:white; vertical-align: middle; padding:10px;\">\n",
    "<font color=\"white\" size = 5 >HAVING - SFWGHO </font>\n",
    "</div>"
   ]
  },
  {
   "cell_type": "code",
   "execution_count": 15,
   "metadata": {},
   "outputs": [
    {
     "name": "stdout",
     "output_type": "stream",
     "text": [
      " * sqlite:///rentals.db\n",
      "Done.\n"
     ]
    },
    {
     "data": {
      "text/html": [
       "<table>\n",
       "    <tr>\n",
       "        <th>location</th>\n",
       "        <th>count(*)</th>\n",
       "    </tr>\n",
       "    <tr>\n",
       "        <td>Melbourne</td>\n",
       "        <td>12</td>\n",
       "    </tr>\n",
       "    <tr>\n",
       "        <td>San Francisco</td>\n",
       "        <td>12</td>\n",
       "    </tr>\n",
       "    <tr>\n",
       "        <td>Seattle</td>\n",
       "        <td>14</td>\n",
       "    </tr>\n",
       "</table>"
      ],
      "text/plain": [
       "[('Melbourne', 12), ('San Francisco', 12), ('Seattle', 14)]"
      ]
     },
     "execution_count": 15,
     "metadata": {},
     "output_type": "execute_result"
    }
   ],
   "source": [
    "%%sql\n",
    "\n",
    "-- Display location and counts above 10\n",
    "-- Use HAVING clause to restrict result based on function\n",
    "\n",
    "SELECT location, count(*)\n",
    "FROM accommodations\n",
    "GROUP BY location\n",
    "HAVING count(*) > 10;"
   ]
  },
  {
   "cell_type": "code",
   "execution_count": 16,
   "metadata": {},
   "outputs": [
    {
     "name": "stdout",
     "output_type": "stream",
     "text": [
      " * sqlite:///rentals.db\n",
      "0 rows affected.\n"
     ]
    },
    {
     "data": {
      "text/plain": [
       "[]"
      ]
     },
     "execution_count": 16,
     "metadata": {},
     "output_type": "execute_result"
    }
   ],
   "source": [
    "%%sql\n",
    "\n",
    "-- INCORRECT!! Use HAVING to test function value\n",
    "-- Using a multi-line comment \n",
    "/*\n",
    "SELECT location, count(*)\n",
    "FROM accommodations\n",
    "WHERE count(*) > 10\n",
    "GROUP BY location;\n",
    "*/"
   ]
  },
  {
   "cell_type": "code",
   "execution_count": 17,
   "metadata": {},
   "outputs": [
    {
     "name": "stdout",
     "output_type": "stream",
     "text": [
      " * sqlite:///rentals.db\n",
      "Done.\n"
     ]
    },
    {
     "data": {
      "text/html": [
       "<table>\n",
       "    <tr>\n",
       "        <th>location</th>\n",
       "        <th>avg(rating)</th>\n",
       "        <th>min(rating)</th>\n",
       "        <th>max(rating)</th>\n",
       "    </tr>\n",
       "    <tr>\n",
       "        <td>Buenos Aires</td>\n",
       "        <td>3.9</td>\n",
       "        <td>3.3</td>\n",
       "        <td>4.5</td>\n",
       "    </tr>\n",
       "    <tr>\n",
       "        <td>San Francisco</td>\n",
       "        <td>3.9</td>\n",
       "        <td>3.7</td>\n",
       "        <td>4.1</td>\n",
       "    </tr>\n",
       "    <tr>\n",
       "        <td>Vancouver</td>\n",
       "        <td>3.6999999999999997</td>\n",
       "        <td>3.2</td>\n",
       "        <td>4.0</td>\n",
       "    </tr>\n",
       "</table>"
      ],
      "text/plain": [
       "[('Buenos Aires', 3.9, 3.3, 4.5),\n",
       " ('San Francisco', 3.9, 3.7, 4.1),\n",
       " ('Vancouver', 3.6999999999999997, 3.2, 4.0)]"
      ]
     },
     "execution_count": 17,
     "metadata": {},
     "output_type": "execute_result"
    }
   ],
   "source": [
    "%%sql\n",
    "\n",
    "-- Display location, avg, min and max rating for castles. \n",
    "-- Restrict the results to locations with average rating above 3.5.\n",
    "-- Sort in descending order of average rating\n",
    "\n",
    "SELECT location, avg(rating), min(rating), max(rating)\n",
    "FROM accommodations\n",
    "WHERE type = 'castle'\n",
    "GROUP BY location\n",
    "HAVING avg(rating) > 3.5\n",
    "ORDER BY avg(rating) desc;"
   ]
  },
  {
   "cell_type": "code",
   "execution_count": 18,
   "metadata": {},
   "outputs": [
    {
     "name": "stdout",
     "output_type": "stream",
     "text": [
      " * sqlite:///rentals.db\n",
      "Done.\n"
     ]
    },
    {
     "data": {
      "text/html": [
       "<table>\n",
       "    <tr>\n",
       "        <th>location</th>\n",
       "        <th>cheapest</th>\n",
       "    </tr>\n",
       "    <tr>\n",
       "        <td>Berlin</td>\n",
       "        <td>30</td>\n",
       "    </tr>\n",
       "    <tr>\n",
       "        <td>Buenos Aires</td>\n",
       "        <td>40</td>\n",
       "    </tr>\n",
       "    <tr>\n",
       "        <td>Dublin</td>\n",
       "        <td>35</td>\n",
       "    </tr>\n",
       "    <tr>\n",
       "        <td>San Francisco</td>\n",
       "        <td>40</td>\n",
       "    </tr>\n",
       "    <tr>\n",
       "        <td>Seattle</td>\n",
       "        <td>35</td>\n",
       "    </tr>\n",
       "    <tr>\n",
       "        <td>Tokyo</td>\n",
       "        <td>30</td>\n",
       "    </tr>\n",
       "</table>"
      ],
      "text/plain": [
       "[('Berlin', 30),\n",
       " ('Buenos Aires', 40),\n",
       " ('Dublin', 35),\n",
       " ('San Francisco', 40),\n",
       " ('Seattle', 35),\n",
       " ('Tokyo', 30)]"
      ]
     },
     "execution_count": 18,
     "metadata": {},
     "output_type": "execute_result"
    }
   ],
   "source": [
    "%%sql\n",
    "\n",
    "-- Assume you only have $40.  Which locations can you visit?\n",
    "-- Show minimum price for each location, label the resulting column \"cheapest\".  \n",
    "-- Do not show location with a min price above $40.\n",
    "\n",
    "SELECT location, min(price) as cheapest\n",
    "FROM accommodations\n",
    "GROUP BY location\n",
    "HAVING cheapest <= 40;"
   ]
  },
  {
   "cell_type": "code",
   "execution_count": null,
   "metadata": {},
   "outputs": [],
   "source": []
  }
 ],
 "metadata": {
  "kernelspec": {
   "display_name": "Python 3",
   "language": "python",
   "name": "python3"
  },
  "language_info": {
   "codemirror_mode": {
    "name": "ipython",
    "version": 3
   },
   "file_extension": ".py",
   "mimetype": "text/x-python",
   "name": "python",
   "nbconvert_exporter": "python",
   "pygments_lexer": "ipython3",
   "version": "3.6.9"
  }
 },
 "nbformat": 4,
 "nbformat_minor": 1
}
